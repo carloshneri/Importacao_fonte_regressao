{
 "cells": [
  {
   "cell_type": "markdown",
   "id": "5fb134f6-d977-45d6-be39-4364cd8964ce",
   "metadata": {},
   "source": [
    "### Motivação:"
   ]
  },
  {
   "cell_type": "markdown",
   "id": "997d6814-60f7-45dd-8da6-54be86f35c40",
   "metadata": {},
   "source": [
    "Um importante indicador para as empresas é sua participação de mercado (Market Share).\n",
    "Um dos dados que é importante é nessa analise são as importações de produtos.\n",
    "Até o ano de 2021 o governo disponibilizada uma plataforma onde era possivel realizar busca dessa informações por descrição podendo ser extraido os dados de valores e quantidades.\n",
    "Em 2022 o governo modificou as informações disponibilizadas https://www.gov.br/produtividade-e-comercio-exterior/pt-br/assuntos/comercio-exterior/estatisticas/base-de-dados-bruta Nessa nova versão as principais modificações são consolidação dos valores de impotação por mês além de não possui mais as impostações.\n"
   ]
  },
  {
   "cell_type": "markdown",
   "id": "76876989-6eb7-4468-9645-777c17dd3d4e",
   "metadata": {
    "tags": []
   },
   "source": [
    "### Objetivo:"
   ]
  },
  {
   "cell_type": "markdown",
   "id": "622b5e22-2e82-49e1-b665-1422cfce742b",
   "metadata": {},
   "source": [
    "Com base nos dados registrados até o ano de 2021 o objetivo é verificar a possibilidade de realizar uma modelagem de regressão para verificar se é possivel identificar os valores de importação da concorrencia nos numeros consolidados mensal pelo governo."
   ]
  },
  {
   "cell_type": "markdown",
   "id": "0aed648f-e3fb-4496-9494-39c69d6fb49b",
   "metadata": {},
   "source": [
    "### Preparação dos dados"
   ]
  },
  {
   "cell_type": "markdown",
   "id": "7dcf94f4-0804-49e5-a1d4-f9126cc8007d",
   "metadata": {},
   "source": [
    "Primeiro - avaliar os dados da nova base do governo."
   ]
  },
  {
   "cell_type": "markdown",
   "id": "810d1b26-adee-4cf4-a228-5439c1f940a8",
   "metadata": {},
   "source": [
    "##### IMPORTAÇÃO DAS BIBLIOTECAS"
   ]
  },
  {
   "cell_type": "markdown",
   "id": "a8756b78",
   "metadata": {},
   "source": [
    "Importação das bibliotecas para a analise dos dados provenientes da pagina do governo que é fornecida em um documento em formato CSV."
   ]
  },
  {
   "cell_type": "code",
   "execution_count": 1,
   "id": "fa9427e2-45d2-426b-89e8-1961a2b6f79a",
   "metadata": {},
   "outputs": [],
   "source": [
    "import pandas as pd\n",
    "import numpy as np\n",
    "import datetime\n",
    "import matplotlib.pyplot as plt"
   ]
  },
  {
   "cell_type": "markdown",
   "id": "53a6bdf8-4ac4-41b4-9cf1-d8d3ec63b7cd",
   "metadata": {},
   "source": [
    "O arquivo do governo baixado na pagina acima é o IMP_COMPLETA.csv"
   ]
  },
  {
   "cell_type": "code",
   "execution_count": 2,
   "id": "530e8da2-b5ad-4945-a7a7-ca27a74ea0f8",
   "metadata": {},
   "outputs": [],
   "source": [
    "dados_governo = pd.read_csv('dados/IMP_COMPLETA.csv', sep=';')"
   ]
  },
  {
   "cell_type": "code",
   "execution_count": 3,
   "id": "1b01c862-f67d-4bdc-a5ed-926a42582551",
   "metadata": {},
   "outputs": [
    {
     "data": {
      "text/html": [
       "<div>\n",
       "<style scoped>\n",
       "    .dataframe tbody tr th:only-of-type {\n",
       "        vertical-align: middle;\n",
       "    }\n",
       "\n",
       "    .dataframe tbody tr th {\n",
       "        vertical-align: top;\n",
       "    }\n",
       "\n",
       "    .dataframe thead th {\n",
       "        text-align: right;\n",
       "    }\n",
       "</style>\n",
       "<table border=\"1\" class=\"dataframe\">\n",
       "  <thead>\n",
       "    <tr style=\"text-align: right;\">\n",
       "      <th></th>\n",
       "      <th>CO_ANO</th>\n",
       "      <th>CO_MES</th>\n",
       "      <th>CO_NCM</th>\n",
       "      <th>CO_UNID</th>\n",
       "      <th>CO_PAIS</th>\n",
       "      <th>SG_UF_NCM</th>\n",
       "      <th>CO_VIA</th>\n",
       "      <th>CO_URF</th>\n",
       "      <th>QT_ESTAT</th>\n",
       "      <th>KG_LIQUIDO</th>\n",
       "      <th>VL_FOB</th>\n",
       "      <th>VL_FRETE</th>\n",
       "      <th>VL_SEGURO</th>\n",
       "    </tr>\n",
       "  </thead>\n",
       "  <tbody>\n",
       "    <tr>\n",
       "      <th>0</th>\n",
       "      <td>1997</td>\n",
       "      <td>9</td>\n",
       "      <td>29251990</td>\n",
       "      <td>10</td>\n",
       "      <td>87</td>\n",
       "      <td>SP</td>\n",
       "      <td>1</td>\n",
       "      <td>817800</td>\n",
       "      <td>200</td>\n",
       "      <td>200</td>\n",
       "      <td>4888</td>\n",
       "      <td>180</td>\n",
       "      <td>24</td>\n",
       "    </tr>\n",
       "    <tr>\n",
       "      <th>1</th>\n",
       "      <td>1997</td>\n",
       "      <td>8</td>\n",
       "      <td>85049010</td>\n",
       "      <td>10</td>\n",
       "      <td>399</td>\n",
       "      <td>SP</td>\n",
       "      <td>4</td>\n",
       "      <td>817600</td>\n",
       "      <td>4891</td>\n",
       "      <td>84</td>\n",
       "      <td>30116</td>\n",
       "      <td>409</td>\n",
       "      <td>93</td>\n",
       "    </tr>\n",
       "    <tr>\n",
       "      <th>2</th>\n",
       "      <td>1997</td>\n",
       "      <td>8</td>\n",
       "      <td>54023300</td>\n",
       "      <td>10</td>\n",
       "      <td>63</td>\n",
       "      <td>SP</td>\n",
       "      <td>7</td>\n",
       "      <td>1010900</td>\n",
       "      <td>143834</td>\n",
       "      <td>143834</td>\n",
       "      <td>402427</td>\n",
       "      <td>10121</td>\n",
       "      <td>266</td>\n",
       "    </tr>\n",
       "    <tr>\n",
       "      <th>3</th>\n",
       "      <td>1997</td>\n",
       "      <td>3</td>\n",
       "      <td>38121000</td>\n",
       "      <td>10</td>\n",
       "      <td>249</td>\n",
       "      <td>SP</td>\n",
       "      <td>1</td>\n",
       "      <td>817800</td>\n",
       "      <td>9434</td>\n",
       "      <td>9172</td>\n",
       "      <td>61190</td>\n",
       "      <td>3011</td>\n",
       "      <td>163</td>\n",
       "    </tr>\n",
       "    <tr>\n",
       "      <th>4</th>\n",
       "      <td>1997</td>\n",
       "      <td>10</td>\n",
       "      <td>73209000</td>\n",
       "      <td>10</td>\n",
       "      <td>399</td>\n",
       "      <td>SP</td>\n",
       "      <td>4</td>\n",
       "      <td>817600</td>\n",
       "      <td>222510</td>\n",
       "      <td>49</td>\n",
       "      <td>3638</td>\n",
       "      <td>456</td>\n",
       "      <td>18</td>\n",
       "    </tr>\n",
       "    <tr>\n",
       "      <th>5</th>\n",
       "      <td>1997</td>\n",
       "      <td>4</td>\n",
       "      <td>40132000</td>\n",
       "      <td>11</td>\n",
       "      <td>161</td>\n",
       "      <td>SC</td>\n",
       "      <td>4</td>\n",
       "      <td>817600</td>\n",
       "      <td>450</td>\n",
       "      <td>66</td>\n",
       "      <td>288</td>\n",
       "      <td>397</td>\n",
       "      <td>0</td>\n",
       "    </tr>\n",
       "    <tr>\n",
       "      <th>6</th>\n",
       "      <td>1997</td>\n",
       "      <td>4</td>\n",
       "      <td>96081000</td>\n",
       "      <td>11</td>\n",
       "      <td>386</td>\n",
       "      <td>ES</td>\n",
       "      <td>4</td>\n",
       "      <td>817600</td>\n",
       "      <td>83200</td>\n",
       "      <td>1312</td>\n",
       "      <td>9199</td>\n",
       "      <td>4599</td>\n",
       "      <td>69</td>\n",
       "    </tr>\n",
       "    <tr>\n",
       "      <th>7</th>\n",
       "      <td>1997</td>\n",
       "      <td>7</td>\n",
       "      <td>84718014</td>\n",
       "      <td>11</td>\n",
       "      <td>249</td>\n",
       "      <td>AM</td>\n",
       "      <td>4</td>\n",
       "      <td>227600</td>\n",
       "      <td>82</td>\n",
       "      <td>258</td>\n",
       "      <td>5175</td>\n",
       "      <td>318</td>\n",
       "      <td>0</td>\n",
       "    </tr>\n",
       "    <tr>\n",
       "      <th>8</th>\n",
       "      <td>1997</td>\n",
       "      <td>3</td>\n",
       "      <td>84836019</td>\n",
       "      <td>11</td>\n",
       "      <td>149</td>\n",
       "      <td>MG</td>\n",
       "      <td>4</td>\n",
       "      <td>817600</td>\n",
       "      <td>2</td>\n",
       "      <td>9</td>\n",
       "      <td>2270</td>\n",
       "      <td>102</td>\n",
       "      <td>6</td>\n",
       "    </tr>\n",
       "    <tr>\n",
       "      <th>9</th>\n",
       "      <td>1997</td>\n",
       "      <td>3</td>\n",
       "      <td>73182200</td>\n",
       "      <td>10</td>\n",
       "      <td>249</td>\n",
       "      <td>PR</td>\n",
       "      <td>1</td>\n",
       "      <td>817800</td>\n",
       "      <td>8</td>\n",
       "      <td>8</td>\n",
       "      <td>102</td>\n",
       "      <td>4</td>\n",
       "      <td>0</td>\n",
       "    </tr>\n",
       "  </tbody>\n",
       "</table>\n",
       "</div>"
      ],
      "text/plain": [
       "   CO_ANO  CO_MES    CO_NCM  CO_UNID  CO_PAIS SG_UF_NCM  CO_VIA   CO_URF  \\\n",
       "0    1997       9  29251990       10       87        SP       1   817800   \n",
       "1    1997       8  85049010       10      399        SP       4   817600   \n",
       "2    1997       8  54023300       10       63        SP       7  1010900   \n",
       "3    1997       3  38121000       10      249        SP       1   817800   \n",
       "4    1997      10  73209000       10      399        SP       4   817600   \n",
       "5    1997       4  40132000       11      161        SC       4   817600   \n",
       "6    1997       4  96081000       11      386        ES       4   817600   \n",
       "7    1997       7  84718014       11      249        AM       4   227600   \n",
       "8    1997       3  84836019       11      149        MG       4   817600   \n",
       "9    1997       3  73182200       10      249        PR       1   817800   \n",
       "\n",
       "   QT_ESTAT  KG_LIQUIDO  VL_FOB  VL_FRETE  VL_SEGURO  \n",
       "0       200         200    4888       180         24  \n",
       "1      4891          84   30116       409         93  \n",
       "2    143834      143834  402427     10121        266  \n",
       "3      9434        9172   61190      3011        163  \n",
       "4    222510          49    3638       456         18  \n",
       "5       450          66     288       397          0  \n",
       "6     83200        1312    9199      4599         69  \n",
       "7        82         258    5175       318          0  \n",
       "8         2           9    2270       102          6  \n",
       "9         8           8     102         4          0  "
      ]
     },
     "execution_count": 3,
     "metadata": {},
     "output_type": "execute_result"
    }
   ],
   "source": [
    "dados_governo.head(10)"
   ]
  },
  {
   "cell_type": "markdown",
   "id": "cb5e0e73",
   "metadata": {},
   "source": [
    "Identificação dos atributos:"
   ]
  },
  {
   "cell_type": "markdown",
   "id": "d60eb357",
   "metadata": {},
   "source": [
    "Identificação dos atributos que estão no arquivo do governo.<br>\n",
    "CO_ANO= ano <br>\n",
    "CO_MES= mês <br>\n",
    "CO_NCM= código NCM, - Nomeclatura Comum do Mercosul <br>\n",
    "CO_UNID= código da unidade estatística <br>\n",
    "CO_PAIS= código de país de destino/origem do produto<br>\n",
    "SG_UF_NCM= código da UF de origem/destino do produto <br>\n",
    "CO_VIA= código da via de transporte (Aéreo = 4, maritimo = 1 etc) <br>\n",
    "CO_URF= código da URF de embarque/desembarque <br> \n",
    "QT_ESTAT= quantidade estatística <br> \n",
    "KG_LIQUIDO= quilograma líquido <br>\n",
    "VL_FOB= valor dólar FOB (US)<br>\n",
    "VL_FRETE= valor dólar Frete (US) <br>\n",
    "VL_SEGURO = valor dólar Seguro (US)"
   ]
  },
  {
   "cell_type": "markdown",
   "id": "5db27c2d",
   "metadata": {},
   "source": [
    "CO_UNID\t    NO_UNID\t                            SG_UNID\n",
    "10\t        QUILOGRAMA LIQUIDO\t                KGL  \n",
    "11\t        NUMERO (UNIDADE)\t                UNID.\n",
    "12\t        MILHEIRO\t                        MIL  \n",
    "13\t        PARES\t                            PARES\n",
    "14\t        METRO\t                            M    \n",
    "15\t        METRO QUADRADO\t                    M2   \n",
    "16\t        METRO CUBICO\t                    M3   \n",
    "17\t        LITRO\t                            LITRO\n",
    "18\t        MIL QUILOWATT HORA\t                MKW/H\n",
    "19\t        QUILATE\t                            QUILT\n",
    "20\t        DUZIA\t                            DUZIA\n",
    "21\t        TONELADA METRICA LIQUIDA\t        TML  \n",
    "22\t        GRAMA LIQUIDO\t                    GRAMA\n",
    "23\t        BILHOES DE UNIDADES INTERNACIONAIS\tBUI  \n",
    "24\t        QUILOGRAMA BRUTO\t                KGBR \n"
   ]
  },
  {
   "cell_type": "markdown",
   "id": "76cb4fa3",
   "metadata": {},
   "source": [
    "CO_PAIS\t    CO_PAIS_ISON3\t    CO_PAIS_ISOA3\t    NO_PAIS\n",
    "0\t        898\t                ZZZ\t                Não Definido\n",
    "23\t        276\t                DEU\t                Alemanha\n",
    "263\t        32\t                ARG\t                Argentina\n",
    "105\t        76\t                BRA\t                Brasil\n",
    "1160\t    156\t                CHN\t                China\n",
    "169\t        170\t                COL\t                Colômbia\n",
    "245\t        724\t                ESP\t                Espanha          \n",
    "249\t        840\t                USA\t                Estados Unidos\n",
    "275\t        250\t                FRA\t                França             \n",
    "367\t        826\t                GBR\t                Inglaterra\n",
    "607\t        620\t                PRT\t                Portugal\n",
    "676\t643\tRUS\tRússia\n",
    "764\t752\tSWE\tSuécia"
   ]
  },
  {
   "cell_type": "markdown",
   "id": "133ee54d",
   "metadata": {},
   "source": [
    "CO_VIA\t    NO_VIA\n",
    "0\t        VIA NAO DECLARADA\n",
    "1\t        MARITIMA\n",
    "2\t        FLUVIAL\n",
    "3\t        LACUSTRE\n",
    "4\t        AEREA\n",
    "5\t        POSTAL\n",
    "6\t        FERROVIARIA\n",
    "7\t        RODOVIARIA\n",
    "8\t        CONDUTO/REDE DE TRANSMISSAO\n",
    "9\t        MEIOS PROPRIOS\n",
    "10\t        ENTRADA/SAIDA FICTA\n",
    "11\t        COURIER\n",
    "15\t        VICINAL FRONTEIRICO\n",
    "14\t        DUTOS\n",
    "12\t        EM MAOS\n",
    "13\t        POR REBOQUE\n",
    "99\t        VIA DESCONHECIDA"
   ]
  },
  {
   "cell_type": "markdown",
   "id": "458f18fa-d160-46a6-aba5-7dcf83f92309",
   "metadata": {},
   "source": [
    "Quais são os anos que possuem dados?"
   ]
  },
  {
   "cell_type": "code",
   "execution_count": 4,
   "id": "18bb6851-b553-4186-8671-6241d969f7fb",
   "metadata": {},
   "outputs": [
    {
     "data": {
      "text/plain": [
       "array([1997, 1998, 1999, 2000, 2001, 2002, 2003, 2004, 2005, 2006, 2007,\n",
       "       2008, 2009, 2010, 2011, 2012, 2013, 2014, 2015, 2016, 2017, 2018,\n",
       "       2019, 2020, 2021, 2022], dtype=int64)"
      ]
     },
     "execution_count": 4,
     "metadata": {},
     "output_type": "execute_result"
    }
   ],
   "source": [
    "dados_governo['CO_ANO'].unique()"
   ]
  },
  {
   "cell_type": "markdown",
   "id": "55897800",
   "metadata": {},
   "source": [
    "### Filtros"
   ]
  },
  {
   "cell_type": "markdown",
   "id": "091f4ff7-8955-4e50-91cb-f2452ecea3a6",
   "metadata": {},
   "source": [
    "Realizando uma primeiros filtros dos dados <br>\n",
    "Conhecimento da area de negocio da empresa:<br>\n",
    "As importações que estamos analisando possuem algumas caracteristicas:<br>\n",
    "Todas importações do material que queremos analisar vem todos dos EUA e possui o NCM= 84564000"
   ]
  },
  {
   "cell_type": "markdown",
   "id": "fc97a3ff",
   "metadata": {},
   "source": [
    "Na mesma pagina do governo onde os dados foram baixados há um dicionario de dados: <br> \n",
    "Codigos: <br> \n",
    "Estados Unidos = 249"
   ]
  },
  {
   "cell_type": "code",
   "execution_count": 5,
   "id": "bff14714",
   "metadata": {},
   "outputs": [],
   "source": [
    "estados_unidos = 249"
   ]
  },
  {
   "cell_type": "markdown",
   "id": "9c6d0805",
   "metadata": {},
   "source": [
    "Filtrando os dados que contenham: <br> NCM = 84564000 e que tenham origem Estados Unidos"
   ]
  },
  {
   "cell_type": "code",
   "execution_count": 6,
   "id": "bc40e5b7-95c8-4694-beb3-1ad3a79cce2c",
   "metadata": {},
   "outputs": [],
   "source": [
    "df_gov = dados_governo[(dados_governo['CO_NCM']==84564000)&\n",
    "                        (dados_governo['CO_PAIS']==estados_unidos)]"
   ]
  },
  {
   "cell_type": "markdown",
   "id": "e1286bc8-8c56-4096-8804-d4ce6d284f08",
   "metadata": {},
   "source": [
    "Outro conhecimento da area de negocio é que o principal competidor está localizado em São Paulo. <br> \n",
    "Filtro para selecionar apenas os dados que contenham o estado de São Paulo."
   ]
  },
  {
   "cell_type": "code",
   "execution_count": 7,
   "id": "66fc1436-7aae-426f-9e22-b2e478f0a53f",
   "metadata": {},
   "outputs": [],
   "source": [
    "df_gov = df_gov[df_gov['SG_UF_NCM']=='SP']"
   ]
  },
  {
   "cell_type": "code",
   "execution_count": 8,
   "id": "9509e498",
   "metadata": {},
   "outputs": [
    {
     "data": {
      "text/html": [
       "<div>\n",
       "<style scoped>\n",
       "    .dataframe tbody tr th:only-of-type {\n",
       "        vertical-align: middle;\n",
       "    }\n",
       "\n",
       "    .dataframe tbody tr th {\n",
       "        vertical-align: top;\n",
       "    }\n",
       "\n",
       "    .dataframe thead th {\n",
       "        text-align: right;\n",
       "    }\n",
       "</style>\n",
       "<table border=\"1\" class=\"dataframe\">\n",
       "  <thead>\n",
       "    <tr style=\"text-align: right;\">\n",
       "      <th></th>\n",
       "      <th>CO_ANO</th>\n",
       "      <th>CO_MES</th>\n",
       "      <th>CO_NCM</th>\n",
       "      <th>CO_UNID</th>\n",
       "      <th>CO_PAIS</th>\n",
       "      <th>SG_UF_NCM</th>\n",
       "      <th>CO_VIA</th>\n",
       "      <th>CO_URF</th>\n",
       "      <th>QT_ESTAT</th>\n",
       "      <th>KG_LIQUIDO</th>\n",
       "      <th>VL_FOB</th>\n",
       "      <th>VL_FRETE</th>\n",
       "      <th>VL_SEGURO</th>\n",
       "    </tr>\n",
       "  </thead>\n",
       "  <tbody>\n",
       "    <tr>\n",
       "      <th>26849588</th>\n",
       "      <td>2017</td>\n",
       "      <td>8</td>\n",
       "      <td>84564000</td>\n",
       "      <td>11</td>\n",
       "      <td>249</td>\n",
       "      <td>SP</td>\n",
       "      <td>4</td>\n",
       "      <td>817600</td>\n",
       "      <td>23</td>\n",
       "      <td>1021</td>\n",
       "      <td>45902</td>\n",
       "      <td>3319</td>\n",
       "      <td>0</td>\n",
       "    </tr>\n",
       "    <tr>\n",
       "      <th>26947803</th>\n",
       "      <td>2017</td>\n",
       "      <td>7</td>\n",
       "      <td>84564000</td>\n",
       "      <td>11</td>\n",
       "      <td>249</td>\n",
       "      <td>SP</td>\n",
       "      <td>4</td>\n",
       "      <td>817600</td>\n",
       "      <td>38</td>\n",
       "      <td>1984</td>\n",
       "      <td>81930</td>\n",
       "      <td>6580</td>\n",
       "      <td>0</td>\n",
       "    </tr>\n",
       "    <tr>\n",
       "      <th>26975216</th>\n",
       "      <td>2017</td>\n",
       "      <td>6</td>\n",
       "      <td>84564000</td>\n",
       "      <td>11</td>\n",
       "      <td>249</td>\n",
       "      <td>SP</td>\n",
       "      <td>4</td>\n",
       "      <td>817600</td>\n",
       "      <td>174</td>\n",
       "      <td>1519</td>\n",
       "      <td>59308</td>\n",
       "      <td>4605</td>\n",
       "      <td>0</td>\n",
       "    </tr>\n",
       "    <tr>\n",
       "      <th>27457388</th>\n",
       "      <td>2017</td>\n",
       "      <td>12</td>\n",
       "      <td>84564000</td>\n",
       "      <td>11</td>\n",
       "      <td>249</td>\n",
       "      <td>SP</td>\n",
       "      <td>4</td>\n",
       "      <td>817600</td>\n",
       "      <td>30</td>\n",
       "      <td>1408</td>\n",
       "      <td>56154</td>\n",
       "      <td>4462</td>\n",
       "      <td>0</td>\n",
       "    </tr>\n",
       "    <tr>\n",
       "      <th>27649071</th>\n",
       "      <td>2017</td>\n",
       "      <td>11</td>\n",
       "      <td>84564000</td>\n",
       "      <td>11</td>\n",
       "      <td>249</td>\n",
       "      <td>SP</td>\n",
       "      <td>4</td>\n",
       "      <td>817600</td>\n",
       "      <td>22</td>\n",
       "      <td>1444</td>\n",
       "      <td>54103</td>\n",
       "      <td>4612</td>\n",
       "      <td>0</td>\n",
       "    </tr>\n",
       "    <tr>\n",
       "      <th>...</th>\n",
       "      <td>...</td>\n",
       "      <td>...</td>\n",
       "      <td>...</td>\n",
       "      <td>...</td>\n",
       "      <td>...</td>\n",
       "      <td>...</td>\n",
       "      <td>...</td>\n",
       "      <td>...</td>\n",
       "      <td>...</td>\n",
       "      <td>...</td>\n",
       "      <td>...</td>\n",
       "      <td>...</td>\n",
       "      <td>...</td>\n",
       "    </tr>\n",
       "    <tr>\n",
       "      <th>36400226</th>\n",
       "      <td>2022</td>\n",
       "      <td>1</td>\n",
       "      <td>84564000</td>\n",
       "      <td>11</td>\n",
       "      <td>249</td>\n",
       "      <td>SP</td>\n",
       "      <td>4</td>\n",
       "      <td>817600</td>\n",
       "      <td>51</td>\n",
       "      <td>2065</td>\n",
       "      <td>84605</td>\n",
       "      <td>8653</td>\n",
       "      <td>0</td>\n",
       "    </tr>\n",
       "    <tr>\n",
       "      <th>36529649</th>\n",
       "      <td>2022</td>\n",
       "      <td>4</td>\n",
       "      <td>84564000</td>\n",
       "      <td>11</td>\n",
       "      <td>249</td>\n",
       "      <td>SP</td>\n",
       "      <td>4</td>\n",
       "      <td>817600</td>\n",
       "      <td>59</td>\n",
       "      <td>3330</td>\n",
       "      <td>115905</td>\n",
       "      <td>15741</td>\n",
       "      <td>0</td>\n",
       "    </tr>\n",
       "    <tr>\n",
       "      <th>36905404</th>\n",
       "      <td>2022</td>\n",
       "      <td>3</td>\n",
       "      <td>84564000</td>\n",
       "      <td>11</td>\n",
       "      <td>249</td>\n",
       "      <td>SP</td>\n",
       "      <td>4</td>\n",
       "      <td>817600</td>\n",
       "      <td>72</td>\n",
       "      <td>5924</td>\n",
       "      <td>173435</td>\n",
       "      <td>25819</td>\n",
       "      <td>0</td>\n",
       "    </tr>\n",
       "    <tr>\n",
       "      <th>36961288</th>\n",
       "      <td>2022</td>\n",
       "      <td>2</td>\n",
       "      <td>84564000</td>\n",
       "      <td>11</td>\n",
       "      <td>249</td>\n",
       "      <td>SP</td>\n",
       "      <td>4</td>\n",
       "      <td>817600</td>\n",
       "      <td>39</td>\n",
       "      <td>8813</td>\n",
       "      <td>199246</td>\n",
       "      <td>36303</td>\n",
       "      <td>0</td>\n",
       "    </tr>\n",
       "    <tr>\n",
       "      <th>36978183</th>\n",
       "      <td>2022</td>\n",
       "      <td>5</td>\n",
       "      <td>84564000</td>\n",
       "      <td>11</td>\n",
       "      <td>249</td>\n",
       "      <td>SP</td>\n",
       "      <td>4</td>\n",
       "      <td>817600</td>\n",
       "      <td>64</td>\n",
       "      <td>3660</td>\n",
       "      <td>169465</td>\n",
       "      <td>17246</td>\n",
       "      <td>0</td>\n",
       "    </tr>\n",
       "  </tbody>\n",
       "</table>\n",
       "<p>66 rows × 13 columns</p>\n",
       "</div>"
      ],
      "text/plain": [
       "          CO_ANO  CO_MES    CO_NCM  CO_UNID  CO_PAIS SG_UF_NCM  CO_VIA  \\\n",
       "26849588    2017       8  84564000       11      249        SP       4   \n",
       "26947803    2017       7  84564000       11      249        SP       4   \n",
       "26975216    2017       6  84564000       11      249        SP       4   \n",
       "27457388    2017      12  84564000       11      249        SP       4   \n",
       "27649071    2017      11  84564000       11      249        SP       4   \n",
       "...          ...     ...       ...      ...      ...       ...     ...   \n",
       "36400226    2022       1  84564000       11      249        SP       4   \n",
       "36529649    2022       4  84564000       11      249        SP       4   \n",
       "36905404    2022       3  84564000       11      249        SP       4   \n",
       "36961288    2022       2  84564000       11      249        SP       4   \n",
       "36978183    2022       5  84564000       11      249        SP       4   \n",
       "\n",
       "          CO_URF  QT_ESTAT  KG_LIQUIDO  VL_FOB  VL_FRETE  VL_SEGURO  \n",
       "26849588  817600        23        1021   45902      3319          0  \n",
       "26947803  817600        38        1984   81930      6580          0  \n",
       "26975216  817600       174        1519   59308      4605          0  \n",
       "27457388  817600        30        1408   56154      4462          0  \n",
       "27649071  817600        22        1444   54103      4612          0  \n",
       "...          ...       ...         ...     ...       ...        ...  \n",
       "36400226  817600        51        2065   84605      8653          0  \n",
       "36529649  817600        59        3330  115905     15741          0  \n",
       "36905404  817600        72        5924  173435     25819          0  \n",
       "36961288  817600        39        8813  199246     36303          0  \n",
       "36978183  817600        64        3660  169465     17246          0  \n",
       "\n",
       "[66 rows x 13 columns]"
      ]
     },
     "execution_count": 8,
     "metadata": {},
     "output_type": "execute_result"
    }
   ],
   "source": [
    "df_gov[df_gov[\"CO_VIA\"]==4]"
   ]
  },
  {
   "cell_type": "markdown",
   "id": "bfee702b-4a3c-4725-8158-5c73d0334058",
   "metadata": {},
   "source": [
    "Limpeza:"
   ]
  },
  {
   "cell_type": "code",
   "execution_count": 9,
   "id": "50d7365c",
   "metadata": {},
   "outputs": [],
   "source": [
    "colunas_limpeza = [ 'CO_VIA',\n",
    "                   'CO_URF', \n",
    "                   'CO_NCM',\n",
    "                   'CO_PAIS']"
   ]
  },
  {
   "cell_type": "code",
   "execution_count": 10,
   "id": "01a7f1b2-c0dc-4c7f-a8e0-9d2e7dadb33b",
   "metadata": {},
   "outputs": [],
   "source": [
    "df_gov = df_gov.drop(columns = colunas_limpeza)"
   ]
  },
  {
   "cell_type": "markdown",
   "id": "97a9fd63-eaca-408f-9149-919f3c844332",
   "metadata": {
    "tags": []
   },
   "source": [
    "Adicionar uma coluna do tipo DateTime"
   ]
  },
  {
   "cell_type": "markdown",
   "id": "9dc42013-6968-4844-bcb9-92463ff3446e",
   "metadata": {
    "tags": []
   },
   "source": [
    " Adicionando uma coluna day com valores iguais a 1 <br> Alterando os nomes das colunas 'CO_ANO':'year', 'CO_MES':'month' <br> Criar a coluna DATA do tipo datetime."
   ]
  },
  {
   "cell_type": "code",
   "execution_count": 11,
   "id": "65925c5f-abe3-4226-9e04-c437dc492002",
   "metadata": {},
   "outputs": [],
   "source": [
    "df_gov['day']=1"
   ]
  },
  {
   "cell_type": "code",
   "execution_count": 12,
   "id": "297b6f77-c1a7-4106-ad44-7faca46fda23",
   "metadata": {},
   "outputs": [],
   "source": [
    "df_gov.rename(columns= {'CO_ANO':'year', 'CO_MES':'month'}, inplace = True)\n",
    "df_gov['DATA']= pd.to_datetime(df_gov[['year', 'month','day']]) # cria uma coluna tipo datetime\n",
    "df_gov.drop(columns=['year', 'month', 'day'], inplace = True) # elimina a coluna Ano e Mes do data Frame"
   ]
  },
  {
   "cell_type": "code",
   "execution_count": 13,
   "id": "c0d6be17-9f71-416b-91dc-63f1b9b4004c",
   "metadata": {},
   "outputs": [
    {
     "data": {
      "text/html": [
       "<div>\n",
       "<style scoped>\n",
       "    .dataframe tbody tr th:only-of-type {\n",
       "        vertical-align: middle;\n",
       "    }\n",
       "\n",
       "    .dataframe tbody tr th {\n",
       "        vertical-align: top;\n",
       "    }\n",
       "\n",
       "    .dataframe thead th {\n",
       "        text-align: right;\n",
       "    }\n",
       "</style>\n",
       "<table border=\"1\" class=\"dataframe\">\n",
       "  <thead>\n",
       "    <tr style=\"text-align: right;\">\n",
       "      <th></th>\n",
       "      <th>CO_UNID</th>\n",
       "      <th>SG_UF_NCM</th>\n",
       "      <th>QT_ESTAT</th>\n",
       "      <th>KG_LIQUIDO</th>\n",
       "      <th>VL_FOB</th>\n",
       "      <th>VL_FRETE</th>\n",
       "      <th>VL_SEGURO</th>\n",
       "      <th>DATA</th>\n",
       "    </tr>\n",
       "  </thead>\n",
       "  <tbody>\n",
       "    <tr>\n",
       "      <th>26849588</th>\n",
       "      <td>11</td>\n",
       "      <td>SP</td>\n",
       "      <td>23</td>\n",
       "      <td>1021</td>\n",
       "      <td>45902</td>\n",
       "      <td>3319</td>\n",
       "      <td>0</td>\n",
       "      <td>2017-08-01</td>\n",
       "    </tr>\n",
       "    <tr>\n",
       "      <th>26947803</th>\n",
       "      <td>11</td>\n",
       "      <td>SP</td>\n",
       "      <td>38</td>\n",
       "      <td>1984</td>\n",
       "      <td>81930</td>\n",
       "      <td>6580</td>\n",
       "      <td>0</td>\n",
       "      <td>2017-07-01</td>\n",
       "    </tr>\n",
       "    <tr>\n",
       "      <th>26975216</th>\n",
       "      <td>11</td>\n",
       "      <td>SP</td>\n",
       "      <td>174</td>\n",
       "      <td>1519</td>\n",
       "      <td>59308</td>\n",
       "      <td>4605</td>\n",
       "      <td>0</td>\n",
       "      <td>2017-06-01</td>\n",
       "    </tr>\n",
       "    <tr>\n",
       "      <th>27457388</th>\n",
       "      <td>11</td>\n",
       "      <td>SP</td>\n",
       "      <td>30</td>\n",
       "      <td>1408</td>\n",
       "      <td>56154</td>\n",
       "      <td>4462</td>\n",
       "      <td>0</td>\n",
       "      <td>2017-12-01</td>\n",
       "    </tr>\n",
       "    <tr>\n",
       "      <th>27649071</th>\n",
       "      <td>11</td>\n",
       "      <td>SP</td>\n",
       "      <td>22</td>\n",
       "      <td>1444</td>\n",
       "      <td>54103</td>\n",
       "      <td>4612</td>\n",
       "      <td>0</td>\n",
       "      <td>2017-11-01</td>\n",
       "    </tr>\n",
       "  </tbody>\n",
       "</table>\n",
       "</div>"
      ],
      "text/plain": [
       "          CO_UNID SG_UF_NCM  QT_ESTAT  KG_LIQUIDO  VL_FOB  VL_FRETE  \\\n",
       "26849588       11        SP        23        1021   45902      3319   \n",
       "26947803       11        SP        38        1984   81930      6580   \n",
       "26975216       11        SP       174        1519   59308      4605   \n",
       "27457388       11        SP        30        1408   56154      4462   \n",
       "27649071       11        SP        22        1444   54103      4612   \n",
       "\n",
       "          VL_SEGURO       DATA  \n",
       "26849588          0 2017-08-01  \n",
       "26947803          0 2017-07-01  \n",
       "26975216          0 2017-06-01  \n",
       "27457388          0 2017-12-01  \n",
       "27649071          0 2017-11-01  "
      ]
     },
     "execution_count": 13,
     "metadata": {},
     "output_type": "execute_result"
    }
   ],
   "source": [
    "df_gov.head()"
   ]
  },
  {
   "cell_type": "code",
   "execution_count": 14,
   "id": "741f9697-87c3-4f97-998b-715865957a41",
   "metadata": {},
   "outputs": [
    {
     "data": {
      "text/plain": [
       "array([ 0, 13, 20], dtype=int64)"
      ]
     },
     "execution_count": 14,
     "metadata": {},
     "output_type": "execute_result"
    }
   ],
   "source": [
    "df_gov['VL_SEGURO'].unique()"
   ]
  },
  {
   "cell_type": "markdown",
   "id": "1c16b9f9",
   "metadata": {},
   "source": [
    "O valor unico do CO_UNID temos apenas o valor 11 que representa que o atributo QT_ESTAT é Unidades."
   ]
  },
  {
   "cell_type": "code",
   "execution_count": 15,
   "id": "6d6587b9-c0eb-4d79-9f36-695a190963ba",
   "metadata": {},
   "outputs": [],
   "source": [
    "df_gov.drop(columns = ['CO_UNID'], inplace = True)"
   ]
  },
  {
   "cell_type": "markdown",
   "id": "23abb65e",
   "metadata": {},
   "source": [
    "Consolidação dos valores por data."
   ]
  },
  {
   "cell_type": "code",
   "execution_count": 16,
   "id": "cd6e2d2b-cd69-48a7-b362-ff1b83b554c0",
   "metadata": {},
   "outputs": [],
   "source": [
    "df_gov = df_gov.groupby(['DATA']).sum()"
   ]
  },
  {
   "cell_type": "code",
   "execution_count": 17,
   "id": "1c0d2b5e",
   "metadata": {},
   "outputs": [
    {
     "data": {
      "text/html": [
       "<div>\n",
       "<style scoped>\n",
       "    .dataframe tbody tr th:only-of-type {\n",
       "        vertical-align: middle;\n",
       "    }\n",
       "\n",
       "    .dataframe tbody tr th {\n",
       "        vertical-align: top;\n",
       "    }\n",
       "\n",
       "    .dataframe thead th {\n",
       "        text-align: right;\n",
       "    }\n",
       "</style>\n",
       "<table border=\"1\" class=\"dataframe\">\n",
       "  <thead>\n",
       "    <tr style=\"text-align: right;\">\n",
       "      <th></th>\n",
       "      <th>QT_ESTAT</th>\n",
       "      <th>KG_LIQUIDO</th>\n",
       "      <th>VL_FOB</th>\n",
       "      <th>VL_FRETE</th>\n",
       "      <th>VL_SEGURO</th>\n",
       "    </tr>\n",
       "    <tr>\n",
       "      <th>DATA</th>\n",
       "      <th></th>\n",
       "      <th></th>\n",
       "      <th></th>\n",
       "      <th></th>\n",
       "      <th></th>\n",
       "    </tr>\n",
       "  </thead>\n",
       "  <tbody>\n",
       "    <tr>\n",
       "      <th>2017-01-01</th>\n",
       "      <td>14</td>\n",
       "      <td>456</td>\n",
       "      <td>25228</td>\n",
       "      <td>1454</td>\n",
       "      <td>0</td>\n",
       "    </tr>\n",
       "    <tr>\n",
       "      <th>2017-02-01</th>\n",
       "      <td>10</td>\n",
       "      <td>1088</td>\n",
       "      <td>25784</td>\n",
       "      <td>3338</td>\n",
       "      <td>0</td>\n",
       "    </tr>\n",
       "    <tr>\n",
       "      <th>2017-03-01</th>\n",
       "      <td>62</td>\n",
       "      <td>4750</td>\n",
       "      <td>148973</td>\n",
       "      <td>14445</td>\n",
       "      <td>0</td>\n",
       "    </tr>\n",
       "    <tr>\n",
       "      <th>2017-04-01</th>\n",
       "      <td>37</td>\n",
       "      <td>2553</td>\n",
       "      <td>86534</td>\n",
       "      <td>7468</td>\n",
       "      <td>0</td>\n",
       "    </tr>\n",
       "    <tr>\n",
       "      <th>2017-05-01</th>\n",
       "      <td>25</td>\n",
       "      <td>1487</td>\n",
       "      <td>54522</td>\n",
       "      <td>4672</td>\n",
       "      <td>0</td>\n",
       "    </tr>\n",
       "    <tr>\n",
       "      <th>...</th>\n",
       "      <td>...</td>\n",
       "      <td>...</td>\n",
       "      <td>...</td>\n",
       "      <td>...</td>\n",
       "      <td>...</td>\n",
       "    </tr>\n",
       "    <tr>\n",
       "      <th>2022-01-01</th>\n",
       "      <td>51</td>\n",
       "      <td>2065</td>\n",
       "      <td>84605</td>\n",
       "      <td>8653</td>\n",
       "      <td>0</td>\n",
       "    </tr>\n",
       "    <tr>\n",
       "      <th>2022-02-01</th>\n",
       "      <td>39</td>\n",
       "      <td>8813</td>\n",
       "      <td>199246</td>\n",
       "      <td>36303</td>\n",
       "      <td>0</td>\n",
       "    </tr>\n",
       "    <tr>\n",
       "      <th>2022-03-01</th>\n",
       "      <td>72</td>\n",
       "      <td>5924</td>\n",
       "      <td>173435</td>\n",
       "      <td>25819</td>\n",
       "      <td>0</td>\n",
       "    </tr>\n",
       "    <tr>\n",
       "      <th>2022-04-01</th>\n",
       "      <td>59</td>\n",
       "      <td>3330</td>\n",
       "      <td>115905</td>\n",
       "      <td>15741</td>\n",
       "      <td>0</td>\n",
       "    </tr>\n",
       "    <tr>\n",
       "      <th>2022-05-01</th>\n",
       "      <td>106</td>\n",
       "      <td>7965</td>\n",
       "      <td>269738</td>\n",
       "      <td>17895</td>\n",
       "      <td>20</td>\n",
       "    </tr>\n",
       "  </tbody>\n",
       "</table>\n",
       "<p>65 rows × 5 columns</p>\n",
       "</div>"
      ],
      "text/plain": [
       "            QT_ESTAT  KG_LIQUIDO  VL_FOB  VL_FRETE  VL_SEGURO\n",
       "DATA                                                         \n",
       "2017-01-01        14         456   25228      1454          0\n",
       "2017-02-01        10        1088   25784      3338          0\n",
       "2017-03-01        62        4750  148973     14445          0\n",
       "2017-04-01        37        2553   86534      7468          0\n",
       "2017-05-01        25        1487   54522      4672          0\n",
       "...              ...         ...     ...       ...        ...\n",
       "2022-01-01        51        2065   84605      8653          0\n",
       "2022-02-01        39        8813  199246     36303          0\n",
       "2022-03-01        72        5924  173435     25819          0\n",
       "2022-04-01        59        3330  115905     15741          0\n",
       "2022-05-01       106        7965  269738     17895         20\n",
       "\n",
       "[65 rows x 5 columns]"
      ]
     },
     "execution_count": 17,
     "metadata": {},
     "output_type": "execute_result"
    }
   ],
   "source": [
    "df_gov"
   ]
  },
  {
   "cell_type": "markdown",
   "id": "aeed2a12-6d7c-4959-8ed0-5aac91cc5018",
   "metadata": {},
   "source": [
    "Leitura dos dados do Siscore"
   ]
  },
  {
   "cell_type": "code",
   "execution_count": 18,
   "id": "d340c83c-5a4a-45e5-bb42-38be80acf910",
   "metadata": {},
   "outputs": [
    {
     "name": "stderr",
     "output_type": "stream",
     "text": [
      "c:\\users\\carlos neri\\appdata\\local\\programs\\python\\python39\\lib\\site-packages\\openpyxl\\worksheet\\_reader.py:308: UserWarning: Data Validation extension is not supported and will be removed\n",
      "  warn(msg)\n"
     ]
    }
   ],
   "source": [
    "df_siscore = pd.read_excel('dados/market Share 2021 a 2016_Brasil_rev02.xlsx', sheet_name = 'Importações HT Fontes Cutting', \n",
    "                   usecols=['QTD_COMERCIAL', 'TOT_UN_PROD_DOLAR EM DOLAR', 'ANO', 'MÊS'] )"
   ]
  },
  {
   "cell_type": "code",
   "execution_count": 19,
   "id": "08a2512c-9443-411b-be0d-d9ba21efffa4",
   "metadata": {},
   "outputs": [
    {
     "data": {
      "text/html": [
       "<div>\n",
       "<style scoped>\n",
       "    .dataframe tbody tr th:only-of-type {\n",
       "        vertical-align: middle;\n",
       "    }\n",
       "\n",
       "    .dataframe tbody tr th {\n",
       "        vertical-align: top;\n",
       "    }\n",
       "\n",
       "    .dataframe thead th {\n",
       "        text-align: right;\n",
       "    }\n",
       "</style>\n",
       "<table border=\"1\" class=\"dataframe\">\n",
       "  <thead>\n",
       "    <tr style=\"text-align: right;\">\n",
       "      <th></th>\n",
       "      <th>QTD_COMERCIAL</th>\n",
       "      <th>TOT_UN_PROD_DOLAR EM DOLAR</th>\n",
       "      <th>ANO</th>\n",
       "      <th>MÊS</th>\n",
       "    </tr>\n",
       "  </thead>\n",
       "  <tbody>\n",
       "    <tr>\n",
       "      <th>0</th>\n",
       "      <td>1</td>\n",
       "      <td>15313.06</td>\n",
       "      <td>2021</td>\n",
       "      <td>1</td>\n",
       "    </tr>\n",
       "    <tr>\n",
       "      <th>1</th>\n",
       "      <td>1</td>\n",
       "      <td>15313.06</td>\n",
       "      <td>2021</td>\n",
       "      <td>6</td>\n",
       "    </tr>\n",
       "    <tr>\n",
       "      <th>2</th>\n",
       "      <td>1</td>\n",
       "      <td>6284.17</td>\n",
       "      <td>2021</td>\n",
       "      <td>7</td>\n",
       "    </tr>\n",
       "    <tr>\n",
       "      <th>3</th>\n",
       "      <td>1</td>\n",
       "      <td>6284.17</td>\n",
       "      <td>2021</td>\n",
       "      <td>1</td>\n",
       "    </tr>\n",
       "    <tr>\n",
       "      <th>4</th>\n",
       "      <td>1</td>\n",
       "      <td>6284.17</td>\n",
       "      <td>2021</td>\n",
       "      <td>1</td>\n",
       "    </tr>\n",
       "  </tbody>\n",
       "</table>\n",
       "</div>"
      ],
      "text/plain": [
       "   QTD_COMERCIAL  TOT_UN_PROD_DOLAR EM DOLAR   ANO  MÊS\n",
       "0              1                    15313.06  2021    1\n",
       "1              1                    15313.06  2021    6\n",
       "2              1                     6284.17  2021    7\n",
       "3              1                     6284.17  2021    1\n",
       "4              1                     6284.17  2021    1"
      ]
     },
     "execution_count": 19,
     "metadata": {},
     "output_type": "execute_result"
    }
   ],
   "source": [
    "df_siscore.head()"
   ]
  },
  {
   "cell_type": "markdown",
   "id": "cae2c583",
   "metadata": {},
   "source": [
    "Adicionar uma coluna Datetime"
   ]
  },
  {
   "cell_type": "markdown",
   "id": "3b01a2d1",
   "metadata": {},
   "source": [
    " Adicionando uma coluna day com valores iguais a 1 <br> Alterando os nomes das colunas 'CO_ANO':'year', 'CO_MES':'month' <br> Criar a coluna DATA do tipo datetime."
   ]
  },
  {
   "cell_type": "code",
   "execution_count": 20,
   "id": "01ad6ade-bf59-4ea1-adfa-ef56cdc7abfb",
   "metadata": {},
   "outputs": [],
   "source": [
    "df_siscore['day'] = 1\n",
    "df_siscore.rename(columns = {'ANO':'year', 'MÊS':'month'}, inplace = True)\n",
    "df_siscore['CO_ANO_MES']= pd.to_datetime(df_siscore[['year', 'month','day']])\n",
    "df_siscore.drop(columns=['year', 'month', 'day'], inplace = True)"
   ]
  },
  {
   "cell_type": "code",
   "execution_count": 21,
   "id": "834b22b6-1b84-450a-9cd2-6add64799694",
   "metadata": {},
   "outputs": [],
   "source": [
    "df_siscore = df_siscore.groupby(['CO_ANO_MES']).sum()"
   ]
  },
  {
   "cell_type": "code",
   "execution_count": 22,
   "id": "a5a8d831-8314-436e-bafc-57cf8e7a3847",
   "metadata": {},
   "outputs": [
    {
     "data": {
      "text/html": [
       "<div>\n",
       "<style scoped>\n",
       "    .dataframe tbody tr th:only-of-type {\n",
       "        vertical-align: middle;\n",
       "    }\n",
       "\n",
       "    .dataframe tbody tr th {\n",
       "        vertical-align: top;\n",
       "    }\n",
       "\n",
       "    .dataframe thead th {\n",
       "        text-align: right;\n",
       "    }\n",
       "</style>\n",
       "<table border=\"1\" class=\"dataframe\">\n",
       "  <thead>\n",
       "    <tr style=\"text-align: right;\">\n",
       "      <th></th>\n",
       "      <th>QTD_COMERCIAL</th>\n",
       "      <th>TOT_UN_PROD_DOLAR EM DOLAR</th>\n",
       "    </tr>\n",
       "    <tr>\n",
       "      <th>CO_ANO_MES</th>\n",
       "      <th></th>\n",
       "      <th></th>\n",
       "    </tr>\n",
       "  </thead>\n",
       "  <tbody>\n",
       "    <tr>\n",
       "      <th>2016-01-01</th>\n",
       "      <td>3</td>\n",
       "      <td>13265.16</td>\n",
       "    </tr>\n",
       "    <tr>\n",
       "      <th>2016-02-01</th>\n",
       "      <td>4</td>\n",
       "      <td>17473.43</td>\n",
       "    </tr>\n",
       "    <tr>\n",
       "      <th>2016-04-01</th>\n",
       "      <td>3</td>\n",
       "      <td>13194.01</td>\n",
       "    </tr>\n",
       "    <tr>\n",
       "      <th>2016-05-01</th>\n",
       "      <td>1</td>\n",
       "      <td>4350.57</td>\n",
       "    </tr>\n",
       "    <tr>\n",
       "      <th>2016-06-01</th>\n",
       "      <td>1</td>\n",
       "      <td>4350.57</td>\n",
       "    </tr>\n",
       "  </tbody>\n",
       "</table>\n",
       "</div>"
      ],
      "text/plain": [
       "            QTD_COMERCIAL  TOT_UN_PROD_DOLAR EM DOLAR\n",
       "CO_ANO_MES                                           \n",
       "2016-01-01              3                    13265.16\n",
       "2016-02-01              4                    17473.43\n",
       "2016-04-01              3                    13194.01\n",
       "2016-05-01              1                     4350.57\n",
       "2016-06-01              1                     4350.57"
      ]
     },
     "execution_count": 22,
     "metadata": {},
     "output_type": "execute_result"
    }
   ],
   "source": [
    "df_siscore.head()"
   ]
  },
  {
   "cell_type": "markdown",
   "id": "5e0b506f-0feb-46fa-a8bd-fcd9c84aa84e",
   "metadata": {},
   "source": [
    "Criação de uma tabela única com os dados do governo e do Siscore."
   ]
  },
  {
   "cell_type": "code",
   "execution_count": 23,
   "id": "056e3aa7-1e09-4f32-b64a-db9de0b88e17",
   "metadata": {},
   "outputs": [
    {
     "data": {
      "text/plain": [
       "(42, 2)"
      ]
     },
     "execution_count": 23,
     "metadata": {},
     "output_type": "execute_result"
    }
   ],
   "source": [
    "df_siscore.shape"
   ]
  },
  {
   "cell_type": "code",
   "execution_count": 24,
   "id": "6a52ee69-28c5-40ab-9880-b0a3390df5e0",
   "metadata": {},
   "outputs": [],
   "source": [
    "df_siscore.reset_index(inplace = True)"
   ]
  },
  {
   "cell_type": "code",
   "execution_count": 25,
   "id": "2ee5365e",
   "metadata": {},
   "outputs": [
    {
     "data": {
      "text/html": [
       "<div>\n",
       "<style scoped>\n",
       "    .dataframe tbody tr th:only-of-type {\n",
       "        vertical-align: middle;\n",
       "    }\n",
       "\n",
       "    .dataframe tbody tr th {\n",
       "        vertical-align: top;\n",
       "    }\n",
       "\n",
       "    .dataframe thead th {\n",
       "        text-align: right;\n",
       "    }\n",
       "</style>\n",
       "<table border=\"1\" class=\"dataframe\">\n",
       "  <thead>\n",
       "    <tr style=\"text-align: right;\">\n",
       "      <th></th>\n",
       "      <th>CO_ANO_MES</th>\n",
       "      <th>QTD_COMERCIAL</th>\n",
       "      <th>TOT_UN_PROD_DOLAR EM DOLAR</th>\n",
       "    </tr>\n",
       "  </thead>\n",
       "  <tbody>\n",
       "    <tr>\n",
       "      <th>0</th>\n",
       "      <td>2016-01-01</td>\n",
       "      <td>3</td>\n",
       "      <td>13265.16</td>\n",
       "    </tr>\n",
       "    <tr>\n",
       "      <th>1</th>\n",
       "      <td>2016-02-01</td>\n",
       "      <td>4</td>\n",
       "      <td>17473.43</td>\n",
       "    </tr>\n",
       "    <tr>\n",
       "      <th>2</th>\n",
       "      <td>2016-04-01</td>\n",
       "      <td>3</td>\n",
       "      <td>13194.01</td>\n",
       "    </tr>\n",
       "    <tr>\n",
       "      <th>3</th>\n",
       "      <td>2016-05-01</td>\n",
       "      <td>1</td>\n",
       "      <td>4350.57</td>\n",
       "    </tr>\n",
       "    <tr>\n",
       "      <th>4</th>\n",
       "      <td>2016-06-01</td>\n",
       "      <td>1</td>\n",
       "      <td>4350.57</td>\n",
       "    </tr>\n",
       "  </tbody>\n",
       "</table>\n",
       "</div>"
      ],
      "text/plain": [
       "  CO_ANO_MES  QTD_COMERCIAL  TOT_UN_PROD_DOLAR EM DOLAR\n",
       "0 2016-01-01              3                    13265.16\n",
       "1 2016-02-01              4                    17473.43\n",
       "2 2016-04-01              3                    13194.01\n",
       "3 2016-05-01              1                     4350.57\n",
       "4 2016-06-01              1                     4350.57"
      ]
     },
     "execution_count": 25,
     "metadata": {},
     "output_type": "execute_result"
    }
   ],
   "source": [
    "df_siscore.head()"
   ]
  },
  {
   "cell_type": "code",
   "execution_count": 26,
   "id": "2880dca0-9937-45c5-bae9-7897961b14a2",
   "metadata": {},
   "outputs": [],
   "source": [
    "df_gov.reset_index(inplace = True)"
   ]
  },
  {
   "cell_type": "code",
   "execution_count": 31,
   "id": "61d14929-268e-4d6a-8287-82154ea11338",
   "metadata": {},
   "outputs": [
    {
     "data": {
      "text/html": [
       "<div>\n",
       "<style scoped>\n",
       "    .dataframe tbody tr th:only-of-type {\n",
       "        vertical-align: middle;\n",
       "    }\n",
       "\n",
       "    .dataframe tbody tr th {\n",
       "        vertical-align: top;\n",
       "    }\n",
       "\n",
       "    .dataframe thead th {\n",
       "        text-align: right;\n",
       "    }\n",
       "</style>\n",
       "<table border=\"1\" class=\"dataframe\">\n",
       "  <thead>\n",
       "    <tr style=\"text-align: right;\">\n",
       "      <th></th>\n",
       "      <th>DATA</th>\n",
       "      <th>QT_ESTAT</th>\n",
       "      <th>KG_LIQUIDO</th>\n",
       "      <th>VL_FOB</th>\n",
       "      <th>VL_FRETE</th>\n",
       "      <th>VL_SEGURO</th>\n",
       "    </tr>\n",
       "  </thead>\n",
       "  <tbody>\n",
       "    <tr>\n",
       "      <th>0</th>\n",
       "      <td>2017-01-01</td>\n",
       "      <td>14</td>\n",
       "      <td>456</td>\n",
       "      <td>25228</td>\n",
       "      <td>1454</td>\n",
       "      <td>0</td>\n",
       "    </tr>\n",
       "    <tr>\n",
       "      <th>1</th>\n",
       "      <td>2017-02-01</td>\n",
       "      <td>10</td>\n",
       "      <td>1088</td>\n",
       "      <td>25784</td>\n",
       "      <td>3338</td>\n",
       "      <td>0</td>\n",
       "    </tr>\n",
       "    <tr>\n",
       "      <th>2</th>\n",
       "      <td>2017-03-01</td>\n",
       "      <td>62</td>\n",
       "      <td>4750</td>\n",
       "      <td>148973</td>\n",
       "      <td>14445</td>\n",
       "      <td>0</td>\n",
       "    </tr>\n",
       "    <tr>\n",
       "      <th>3</th>\n",
       "      <td>2017-04-01</td>\n",
       "      <td>37</td>\n",
       "      <td>2553</td>\n",
       "      <td>86534</td>\n",
       "      <td>7468</td>\n",
       "      <td>0</td>\n",
       "    </tr>\n",
       "    <tr>\n",
       "      <th>4</th>\n",
       "      <td>2017-05-01</td>\n",
       "      <td>25</td>\n",
       "      <td>1487</td>\n",
       "      <td>54522</td>\n",
       "      <td>4672</td>\n",
       "      <td>0</td>\n",
       "    </tr>\n",
       "  </tbody>\n",
       "</table>\n",
       "</div>"
      ],
      "text/plain": [
       "        DATA  QT_ESTAT  KG_LIQUIDO  VL_FOB  VL_FRETE  VL_SEGURO\n",
       "0 2017-01-01        14         456   25228      1454          0\n",
       "1 2017-02-01        10        1088   25784      3338          0\n",
       "2 2017-03-01        62        4750  148973     14445          0\n",
       "3 2017-04-01        37        2553   86534      7468          0\n",
       "4 2017-05-01        25        1487   54522      4672          0"
      ]
     },
     "execution_count": 31,
     "metadata": {},
     "output_type": "execute_result"
    }
   ],
   "source": [
    "df_gov.head()"
   ]
  },
  {
   "cell_type": "code",
   "execution_count": 32,
   "id": "031a5538",
   "metadata": {},
   "outputs": [],
   "source": [
    "df_gov.rename(columns = {'DATA':'CO_ANO_MES',\n",
    "                         'QT_ESTAT':'GOV_QTD',\n",
    "                         'KG_LIQUIDO':'GOV_PESO',\n",
    "                         'VL_FOB':'GOV_FOB',\n",
    "                         'VL_FRETE':'GOV_FRETE',\n",
    "                         'VL_SEGURO':'GOV_SEGURO'}, inplace = True)"
   ]
  },
  {
   "cell_type": "code",
   "execution_count": 33,
   "id": "96dac034",
   "metadata": {},
   "outputs": [],
   "source": [
    "df_siscore.rename(columns = {'QTD_COMERCIAL':'SISC_QTD',\n",
    "                             'TOT_UN_PROD_DOLAR EM DOLAR':'SISC_FOB'}, inplace = True)"
   ]
  },
  {
   "cell_type": "markdown",
   "id": "1824fa4d-bab8-4d2f-a5c3-717e0773c779",
   "metadata": {},
   "source": [
    "JOIN das tabelas de imporação do governo e da importação."
   ]
  },
  {
   "cell_type": "code",
   "execution_count": 34,
   "id": "c67e7496-024b-4d29-9dad-e270b6d4b645",
   "metadata": {},
   "outputs": [],
   "source": [
    "df = pd.merge( df_gov,df_siscore, how= 'left', on ='CO_ANO_MES')"
   ]
  },
  {
   "cell_type": "code",
   "execution_count": 35,
   "id": "9d0df1b5",
   "metadata": {},
   "outputs": [
    {
     "data": {
      "text/html": [
       "<div>\n",
       "<style scoped>\n",
       "    .dataframe tbody tr th:only-of-type {\n",
       "        vertical-align: middle;\n",
       "    }\n",
       "\n",
       "    .dataframe tbody tr th {\n",
       "        vertical-align: top;\n",
       "    }\n",
       "\n",
       "    .dataframe thead th {\n",
       "        text-align: right;\n",
       "    }\n",
       "</style>\n",
       "<table border=\"1\" class=\"dataframe\">\n",
       "  <thead>\n",
       "    <tr style=\"text-align: right;\">\n",
       "      <th></th>\n",
       "      <th>CO_ANO_MES</th>\n",
       "      <th>GOV_QTD</th>\n",
       "      <th>GOV_PESO</th>\n",
       "      <th>GOV_FOB</th>\n",
       "      <th>GOV_FRETE</th>\n",
       "      <th>GOV_SEGURO</th>\n",
       "      <th>SISC_QTD</th>\n",
       "      <th>SISC_FOB</th>\n",
       "    </tr>\n",
       "  </thead>\n",
       "  <tbody>\n",
       "    <tr>\n",
       "      <th>0</th>\n",
       "      <td>2017-01-01</td>\n",
       "      <td>14</td>\n",
       "      <td>456</td>\n",
       "      <td>25228</td>\n",
       "      <td>1454</td>\n",
       "      <td>0</td>\n",
       "      <td>1.0</td>\n",
       "      <td>4421.72</td>\n",
       "    </tr>\n",
       "    <tr>\n",
       "      <th>1</th>\n",
       "      <td>2017-02-01</td>\n",
       "      <td>10</td>\n",
       "      <td>1088</td>\n",
       "      <td>25784</td>\n",
       "      <td>3338</td>\n",
       "      <td>0</td>\n",
       "      <td>NaN</td>\n",
       "      <td>NaN</td>\n",
       "    </tr>\n",
       "    <tr>\n",
       "      <th>2</th>\n",
       "      <td>2017-03-01</td>\n",
       "      <td>62</td>\n",
       "      <td>4750</td>\n",
       "      <td>148973</td>\n",
       "      <td>14445</td>\n",
       "      <td>0</td>\n",
       "      <td>NaN</td>\n",
       "      <td>NaN</td>\n",
       "    </tr>\n",
       "    <tr>\n",
       "      <th>3</th>\n",
       "      <td>2017-04-01</td>\n",
       "      <td>37</td>\n",
       "      <td>2553</td>\n",
       "      <td>86534</td>\n",
       "      <td>7468</td>\n",
       "      <td>0</td>\n",
       "      <td>NaN</td>\n",
       "      <td>NaN</td>\n",
       "    </tr>\n",
       "    <tr>\n",
       "      <th>4</th>\n",
       "      <td>2017-05-01</td>\n",
       "      <td>25</td>\n",
       "      <td>1487</td>\n",
       "      <td>54522</td>\n",
       "      <td>4672</td>\n",
       "      <td>0</td>\n",
       "      <td>NaN</td>\n",
       "      <td>NaN</td>\n",
       "    </tr>\n",
       "    <tr>\n",
       "      <th>5</th>\n",
       "      <td>2017-06-01</td>\n",
       "      <td>174</td>\n",
       "      <td>1519</td>\n",
       "      <td>59308</td>\n",
       "      <td>4605</td>\n",
       "      <td>0</td>\n",
       "      <td>2.0</td>\n",
       "      <td>12239.95</td>\n",
       "    </tr>\n",
       "    <tr>\n",
       "      <th>6</th>\n",
       "      <td>2017-07-01</td>\n",
       "      <td>38</td>\n",
       "      <td>1984</td>\n",
       "      <td>81930</td>\n",
       "      <td>6580</td>\n",
       "      <td>0</td>\n",
       "      <td>2.0</td>\n",
       "      <td>12239.95</td>\n",
       "    </tr>\n",
       "    <tr>\n",
       "      <th>7</th>\n",
       "      <td>2017-08-01</td>\n",
       "      <td>23</td>\n",
       "      <td>1021</td>\n",
       "      <td>45902</td>\n",
       "      <td>3319</td>\n",
       "      <td>0</td>\n",
       "      <td>NaN</td>\n",
       "      <td>NaN</td>\n",
       "    </tr>\n",
       "    <tr>\n",
       "      <th>8</th>\n",
       "      <td>2017-09-01</td>\n",
       "      <td>35</td>\n",
       "      <td>1474</td>\n",
       "      <td>66857</td>\n",
       "      <td>4807</td>\n",
       "      <td>0</td>\n",
       "      <td>NaN</td>\n",
       "      <td>NaN</td>\n",
       "    </tr>\n",
       "    <tr>\n",
       "      <th>9</th>\n",
       "      <td>2017-10-01</td>\n",
       "      <td>17</td>\n",
       "      <td>1011</td>\n",
       "      <td>38135</td>\n",
       "      <td>3141</td>\n",
       "      <td>0</td>\n",
       "      <td>1.0</td>\n",
       "      <td>12401.05</td>\n",
       "    </tr>\n",
       "    <tr>\n",
       "      <th>10</th>\n",
       "      <td>2017-11-01</td>\n",
       "      <td>22</td>\n",
       "      <td>1444</td>\n",
       "      <td>54103</td>\n",
       "      <td>4612</td>\n",
       "      <td>0</td>\n",
       "      <td>2.0</td>\n",
       "      <td>18290.52</td>\n",
       "    </tr>\n",
       "    <tr>\n",
       "      <th>11</th>\n",
       "      <td>2017-12-01</td>\n",
       "      <td>30</td>\n",
       "      <td>1408</td>\n",
       "      <td>56154</td>\n",
       "      <td>4462</td>\n",
       "      <td>0</td>\n",
       "      <td>NaN</td>\n",
       "      <td>NaN</td>\n",
       "    </tr>\n",
       "    <tr>\n",
       "      <th>12</th>\n",
       "      <td>2018-01-01</td>\n",
       "      <td>13</td>\n",
       "      <td>2325</td>\n",
       "      <td>54167</td>\n",
       "      <td>6784</td>\n",
       "      <td>0</td>\n",
       "      <td>6.0</td>\n",
       "      <td>55434.41</td>\n",
       "    </tr>\n",
       "    <tr>\n",
       "      <th>13</th>\n",
       "      <td>2018-02-01</td>\n",
       "      <td>17</td>\n",
       "      <td>947</td>\n",
       "      <td>32180</td>\n",
       "      <td>2906</td>\n",
       "      <td>0</td>\n",
       "      <td>2.0</td>\n",
       "      <td>16903.66</td>\n",
       "    </tr>\n",
       "    <tr>\n",
       "      <th>14</th>\n",
       "      <td>2018-03-01</td>\n",
       "      <td>38</td>\n",
       "      <td>1150</td>\n",
       "      <td>63626</td>\n",
       "      <td>3660</td>\n",
       "      <td>0</td>\n",
       "      <td>NaN</td>\n",
       "      <td>NaN</td>\n",
       "    </tr>\n",
       "  </tbody>\n",
       "</table>\n",
       "</div>"
      ],
      "text/plain": [
       "   CO_ANO_MES  GOV_QTD  GOV_PESO  GOV_FOB  GOV_FRETE  GOV_SEGURO  SISC_QTD  \\\n",
       "0  2017-01-01       14       456    25228       1454           0       1.0   \n",
       "1  2017-02-01       10      1088    25784       3338           0       NaN   \n",
       "2  2017-03-01       62      4750   148973      14445           0       NaN   \n",
       "3  2017-04-01       37      2553    86534       7468           0       NaN   \n",
       "4  2017-05-01       25      1487    54522       4672           0       NaN   \n",
       "5  2017-06-01      174      1519    59308       4605           0       2.0   \n",
       "6  2017-07-01       38      1984    81930       6580           0       2.0   \n",
       "7  2017-08-01       23      1021    45902       3319           0       NaN   \n",
       "8  2017-09-01       35      1474    66857       4807           0       NaN   \n",
       "9  2017-10-01       17      1011    38135       3141           0       1.0   \n",
       "10 2017-11-01       22      1444    54103       4612           0       2.0   \n",
       "11 2017-12-01       30      1408    56154       4462           0       NaN   \n",
       "12 2018-01-01       13      2325    54167       6784           0       6.0   \n",
       "13 2018-02-01       17       947    32180       2906           0       2.0   \n",
       "14 2018-03-01       38      1150    63626       3660           0       NaN   \n",
       "\n",
       "    SISC_FOB  \n",
       "0    4421.72  \n",
       "1        NaN  \n",
       "2        NaN  \n",
       "3        NaN  \n",
       "4        NaN  \n",
       "5   12239.95  \n",
       "6   12239.95  \n",
       "7        NaN  \n",
       "8        NaN  \n",
       "9   12401.05  \n",
       "10  18290.52  \n",
       "11       NaN  \n",
       "12  55434.41  \n",
       "13  16903.66  \n",
       "14       NaN  "
      ]
     },
     "execution_count": 35,
     "metadata": {},
     "output_type": "execute_result"
    }
   ],
   "source": [
    "df.head(15)"
   ]
  },
  {
   "cell_type": "code",
   "execution_count": 36,
   "id": "7a9a43af-71af-43d6-9549-f8ad7ecbcc3a",
   "metadata": {},
   "outputs": [
    {
     "data": {
      "text/plain": [
       "CO_ANO_MES     0\n",
       "GOV_QTD        0\n",
       "GOV_PESO       0\n",
       "GOV_FOB        0\n",
       "GOV_FRETE      0\n",
       "GOV_SEGURO     0\n",
       "SISC_QTD      31\n",
       "SISC_FOB      31\n",
       "dtype: int64"
      ]
     },
     "execution_count": 36,
     "metadata": {},
     "output_type": "execute_result"
    }
   ],
   "source": [
    "df.isnull().sum()"
   ]
  },
  {
   "cell_type": "markdown",
   "id": "5c43fe14",
   "metadata": {},
   "source": [
    "Adicionando valores 0 aos valores nulos já que representa que naquela data não tivemos importação de fontes registradas no Siscore."
   ]
  },
  {
   "cell_type": "code",
   "execution_count": 37,
   "id": "40beb619-274e-41bb-b4d9-4dd59839db72",
   "metadata": {},
   "outputs": [],
   "source": [
    "df.fillna(0, inplace= True)"
   ]
  },
  {
   "cell_type": "code",
   "execution_count": 38,
   "id": "c79f48e6-2550-458a-8ddd-b0ed48f69056",
   "metadata": {},
   "outputs": [
    {
     "data": {
      "text/html": [
       "<div>\n",
       "<style scoped>\n",
       "    .dataframe tbody tr th:only-of-type {\n",
       "        vertical-align: middle;\n",
       "    }\n",
       "\n",
       "    .dataframe tbody tr th {\n",
       "        vertical-align: top;\n",
       "    }\n",
       "\n",
       "    .dataframe thead th {\n",
       "        text-align: right;\n",
       "    }\n",
       "</style>\n",
       "<table border=\"1\" class=\"dataframe\">\n",
       "  <thead>\n",
       "    <tr style=\"text-align: right;\">\n",
       "      <th></th>\n",
       "      <th>CO_ANO_MES</th>\n",
       "      <th>GOV_QTD</th>\n",
       "      <th>GOV_PESO</th>\n",
       "      <th>GOV_FOB</th>\n",
       "      <th>GOV_FRETE</th>\n",
       "      <th>GOV_SEGURO</th>\n",
       "      <th>SISC_QTD</th>\n",
       "      <th>SISC_FOB</th>\n",
       "    </tr>\n",
       "  </thead>\n",
       "  <tbody>\n",
       "    <tr>\n",
       "      <th>0</th>\n",
       "      <td>2017-01-01</td>\n",
       "      <td>14</td>\n",
       "      <td>456</td>\n",
       "      <td>25228</td>\n",
       "      <td>1454</td>\n",
       "      <td>0</td>\n",
       "      <td>1.0</td>\n",
       "      <td>4421.72</td>\n",
       "    </tr>\n",
       "    <tr>\n",
       "      <th>1</th>\n",
       "      <td>2017-02-01</td>\n",
       "      <td>10</td>\n",
       "      <td>1088</td>\n",
       "      <td>25784</td>\n",
       "      <td>3338</td>\n",
       "      <td>0</td>\n",
       "      <td>0.0</td>\n",
       "      <td>0.00</td>\n",
       "    </tr>\n",
       "    <tr>\n",
       "      <th>2</th>\n",
       "      <td>2017-03-01</td>\n",
       "      <td>62</td>\n",
       "      <td>4750</td>\n",
       "      <td>148973</td>\n",
       "      <td>14445</td>\n",
       "      <td>0</td>\n",
       "      <td>0.0</td>\n",
       "      <td>0.00</td>\n",
       "    </tr>\n",
       "    <tr>\n",
       "      <th>3</th>\n",
       "      <td>2017-04-01</td>\n",
       "      <td>37</td>\n",
       "      <td>2553</td>\n",
       "      <td>86534</td>\n",
       "      <td>7468</td>\n",
       "      <td>0</td>\n",
       "      <td>0.0</td>\n",
       "      <td>0.00</td>\n",
       "    </tr>\n",
       "    <tr>\n",
       "      <th>4</th>\n",
       "      <td>2017-05-01</td>\n",
       "      <td>25</td>\n",
       "      <td>1487</td>\n",
       "      <td>54522</td>\n",
       "      <td>4672</td>\n",
       "      <td>0</td>\n",
       "      <td>0.0</td>\n",
       "      <td>0.00</td>\n",
       "    </tr>\n",
       "    <tr>\n",
       "      <th>...</th>\n",
       "      <td>...</td>\n",
       "      <td>...</td>\n",
       "      <td>...</td>\n",
       "      <td>...</td>\n",
       "      <td>...</td>\n",
       "      <td>...</td>\n",
       "      <td>...</td>\n",
       "      <td>...</td>\n",
       "    </tr>\n",
       "    <tr>\n",
       "      <th>60</th>\n",
       "      <td>2022-01-01</td>\n",
       "      <td>51</td>\n",
       "      <td>2065</td>\n",
       "      <td>84605</td>\n",
       "      <td>8653</td>\n",
       "      <td>0</td>\n",
       "      <td>0.0</td>\n",
       "      <td>0.00</td>\n",
       "    </tr>\n",
       "    <tr>\n",
       "      <th>61</th>\n",
       "      <td>2022-02-01</td>\n",
       "      <td>39</td>\n",
       "      <td>8813</td>\n",
       "      <td>199246</td>\n",
       "      <td>36303</td>\n",
       "      <td>0</td>\n",
       "      <td>0.0</td>\n",
       "      <td>0.00</td>\n",
       "    </tr>\n",
       "    <tr>\n",
       "      <th>62</th>\n",
       "      <td>2022-03-01</td>\n",
       "      <td>72</td>\n",
       "      <td>5924</td>\n",
       "      <td>173435</td>\n",
       "      <td>25819</td>\n",
       "      <td>0</td>\n",
       "      <td>0.0</td>\n",
       "      <td>0.00</td>\n",
       "    </tr>\n",
       "    <tr>\n",
       "      <th>63</th>\n",
       "      <td>2022-04-01</td>\n",
       "      <td>59</td>\n",
       "      <td>3330</td>\n",
       "      <td>115905</td>\n",
       "      <td>15741</td>\n",
       "      <td>0</td>\n",
       "      <td>0.0</td>\n",
       "      <td>0.00</td>\n",
       "    </tr>\n",
       "    <tr>\n",
       "      <th>64</th>\n",
       "      <td>2022-05-01</td>\n",
       "      <td>106</td>\n",
       "      <td>7965</td>\n",
       "      <td>269738</td>\n",
       "      <td>17895</td>\n",
       "      <td>20</td>\n",
       "      <td>0.0</td>\n",
       "      <td>0.00</td>\n",
       "    </tr>\n",
       "  </tbody>\n",
       "</table>\n",
       "<p>65 rows × 8 columns</p>\n",
       "</div>"
      ],
      "text/plain": [
       "   CO_ANO_MES  GOV_QTD  GOV_PESO  GOV_FOB  GOV_FRETE  GOV_SEGURO  SISC_QTD  \\\n",
       "0  2017-01-01       14       456    25228       1454           0       1.0   \n",
       "1  2017-02-01       10      1088    25784       3338           0       0.0   \n",
       "2  2017-03-01       62      4750   148973      14445           0       0.0   \n",
       "3  2017-04-01       37      2553    86534       7468           0       0.0   \n",
       "4  2017-05-01       25      1487    54522       4672           0       0.0   \n",
       "..        ...      ...       ...      ...        ...         ...       ...   \n",
       "60 2022-01-01       51      2065    84605       8653           0       0.0   \n",
       "61 2022-02-01       39      8813   199246      36303           0       0.0   \n",
       "62 2022-03-01       72      5924   173435      25819           0       0.0   \n",
       "63 2022-04-01       59      3330   115905      15741           0       0.0   \n",
       "64 2022-05-01      106      7965   269738      17895          20       0.0   \n",
       "\n",
       "    SISC_FOB  \n",
       "0    4421.72  \n",
       "1       0.00  \n",
       "2       0.00  \n",
       "3       0.00  \n",
       "4       0.00  \n",
       "..       ...  \n",
       "60      0.00  \n",
       "61      0.00  \n",
       "62      0.00  \n",
       "63      0.00  \n",
       "64      0.00  \n",
       "\n",
       "[65 rows x 8 columns]"
      ]
     },
     "execution_count": 38,
     "metadata": {},
     "output_type": "execute_result"
    }
   ],
   "source": [
    "df"
   ]
  },
  {
   "cell_type": "markdown",
   "id": "cddf7dbf",
   "metadata": {},
   "source": [
    "Guardar em um arquivo CSV a nova tabela com os dados tratados."
   ]
  },
  {
   "cell_type": "code",
   "execution_count": 39,
   "id": "76c35b33-ffeb-4617-b5cb-6b7c7144bacc",
   "metadata": {},
   "outputs": [],
   "source": [
    "df.to_csv(\"dados/final_seguro_frete.csv\", index=False)"
   ]
  },
  {
   "cell_type": "markdown",
   "id": "60418c43",
   "metadata": {},
   "source": [
    "Testando as hipoteses..."
   ]
  },
  {
   "cell_type": "markdown",
   "id": "afe10a75",
   "metadata": {},
   "source": [
    "1- É possivel estabelecer uma regressão linear entre o valor SISC_FOB e outros dados GOV?"
   ]
  },
  {
   "cell_type": "code",
   "execution_count": 40,
   "id": "dc9d77e7-cec7-4b25-842b-2d53aba585b0",
   "metadata": {},
   "outputs": [
    {
     "data": {
      "text/plain": [
       "<AxesSubplot:xlabel='GOV_FOB', ylabel='SISC_FOB'>"
      ]
     },
     "execution_count": 40,
     "metadata": {},
     "output_type": "execute_result"
    },
    {
     "data": {
      "image/png": "[encoded data removed]",
      "text/plain": [
       "<Figure size 432x288 with 1 Axes>"
      ]
     },
     "metadata": {
      "needs_background": "light"
     },
     "output_type": "display_data"
    }
   ],
   "source": [
    "df.plot.scatter(x = 'GOV_FOB', y = 'SISC_FOB')"
   ]
  },
  {
   "cell_type": "code",
   "execution_count": 41,
   "id": "ea5dbe25-de58-4cf4-be8c-5c2949147913",
   "metadata": {},
   "outputs": [
    {
     "data": {
      "text/plain": [
       "<AxesSubplot:xlabel='GOV_PESO', ylabel='SISC_FOB'>"
      ]
     },
     "execution_count": 41,
     "metadata": {},
     "output_type": "execute_result"
    },
    {
     "data": {
      "image/png": "[encoded data removed]",
      "text/plain": [
       "<Figure size 432x288 with 1 Axes>"
      ]
     },
     "metadata": {
      "needs_background": "light"
     },
     "output_type": "display_data"
    }
   ],
   "source": [
    "df.plot.scatter(x = 'GOV_PESO', y = 'SISC_FOB')"
   ]
  },
  {
   "cell_type": "code",
   "execution_count": 46,
   "id": "302452ed",
   "metadata": {},
   "outputs": [
    {
     "data": {
      "text/plain": [
       "<AxesSubplot:xlabel='GOV_FRETE', ylabel='SISC_FOB'>"
      ]
     },
     "execution_count": 46,
     "metadata": {},
     "output_type": "execute_result"
    },
    {
     "data": {
      "image/png": "[encoded data removed]",
      "text/plain": [
       "<Figure size 432x288 with 1 Axes>"
      ]
     },
     "metadata": {
      "needs_background": "light"
     },
     "output_type": "display_data"
    }
   ],
   "source": [
    "df.plot.scatter(x = 'GOV_FRETE', y = 'SISC_FOB')"
   ]
  },
  {
   "cell_type": "markdown",
   "id": "f95d211d-b802-4763-b601-53143cd247a8",
   "metadata": {},
   "source": [
    "É possvel obeservar que nos graficos de dispesão há varios valores onde não tivemos importação da concorrencia."
   ]
  },
  {
   "cell_type": "markdown",
   "id": "47e56c56",
   "metadata": {},
   "source": [
    "Como se comporta o grafico apenas com os dados onde temos valores de importação SISC"
   ]
  },
  {
   "cell_type": "code",
   "execution_count": 43,
   "id": "8963f71e",
   "metadata": {},
   "outputs": [
    {
     "data": {
      "text/plain": [
       "(34, 8)"
      ]
     },
     "execution_count": 43,
     "metadata": {},
     "output_type": "execute_result"
    }
   ],
   "source": [
    "\n",
    "df_importacao = df[df['SISC_QTD']>0] \n",
    "df_importacao.shape"
   ]
  },
  {
   "cell_type": "code",
   "execution_count": 44,
   "id": "2acf0b77",
   "metadata": {},
   "outputs": [
    {
     "data": {
      "text/html": [
       "<div>\n",
       "<style scoped>\n",
       "    .dataframe tbody tr th:only-of-type {\n",
       "        vertical-align: middle;\n",
       "    }\n",
       "\n",
       "    .dataframe tbody tr th {\n",
       "        vertical-align: top;\n",
       "    }\n",
       "\n",
       "    .dataframe thead th {\n",
       "        text-align: right;\n",
       "    }\n",
       "</style>\n",
       "<table border=\"1\" class=\"dataframe\">\n",
       "  <thead>\n",
       "    <tr style=\"text-align: right;\">\n",
       "      <th></th>\n",
       "      <th>CO_ANO_MES</th>\n",
       "      <th>GOV_QTD</th>\n",
       "      <th>GOV_PESO</th>\n",
       "      <th>GOV_FOB</th>\n",
       "      <th>GOV_FRETE</th>\n",
       "      <th>GOV_SEGURO</th>\n",
       "      <th>SISC_QTD</th>\n",
       "      <th>SISC_FOB</th>\n",
       "    </tr>\n",
       "  </thead>\n",
       "  <tbody>\n",
       "    <tr>\n",
       "      <th>0</th>\n",
       "      <td>2017-01-01</td>\n",
       "      <td>14</td>\n",
       "      <td>456</td>\n",
       "      <td>25228</td>\n",
       "      <td>1454</td>\n",
       "      <td>0</td>\n",
       "      <td>1.0</td>\n",
       "      <td>4421.72</td>\n",
       "    </tr>\n",
       "    <tr>\n",
       "      <th>5</th>\n",
       "      <td>2017-06-01</td>\n",
       "      <td>174</td>\n",
       "      <td>1519</td>\n",
       "      <td>59308</td>\n",
       "      <td>4605</td>\n",
       "      <td>0</td>\n",
       "      <td>2.0</td>\n",
       "      <td>12239.95</td>\n",
       "    </tr>\n",
       "    <tr>\n",
       "      <th>6</th>\n",
       "      <td>2017-07-01</td>\n",
       "      <td>38</td>\n",
       "      <td>1984</td>\n",
       "      <td>81930</td>\n",
       "      <td>6580</td>\n",
       "      <td>0</td>\n",
       "      <td>2.0</td>\n",
       "      <td>12239.95</td>\n",
       "    </tr>\n",
       "    <tr>\n",
       "      <th>9</th>\n",
       "      <td>2017-10-01</td>\n",
       "      <td>17</td>\n",
       "      <td>1011</td>\n",
       "      <td>38135</td>\n",
       "      <td>3141</td>\n",
       "      <td>0</td>\n",
       "      <td>1.0</td>\n",
       "      <td>12401.05</td>\n",
       "    </tr>\n",
       "    <tr>\n",
       "      <th>10</th>\n",
       "      <td>2017-11-01</td>\n",
       "      <td>22</td>\n",
       "      <td>1444</td>\n",
       "      <td>54103</td>\n",
       "      <td>4612</td>\n",
       "      <td>0</td>\n",
       "      <td>2.0</td>\n",
       "      <td>18290.52</td>\n",
       "    </tr>\n",
       "  </tbody>\n",
       "</table>\n",
       "</div>"
      ],
      "text/plain": [
       "   CO_ANO_MES  GOV_QTD  GOV_PESO  GOV_FOB  GOV_FRETE  GOV_SEGURO  SISC_QTD  \\\n",
       "0  2017-01-01       14       456    25228       1454           0       1.0   \n",
       "5  2017-06-01      174      1519    59308       4605           0       2.0   \n",
       "6  2017-07-01       38      1984    81930       6580           0       2.0   \n",
       "9  2017-10-01       17      1011    38135       3141           0       1.0   \n",
       "10 2017-11-01       22      1444    54103       4612           0       2.0   \n",
       "\n",
       "    SISC_FOB  \n",
       "0    4421.72  \n",
       "5   12239.95  \n",
       "6   12239.95  \n",
       "9   12401.05  \n",
       "10  18290.52  "
      ]
     },
     "execution_count": 44,
     "metadata": {},
     "output_type": "execute_result"
    }
   ],
   "source": [
    "df_importacao.head()"
   ]
  },
  {
   "cell_type": "code",
   "execution_count": 52,
   "id": "5e7b410a",
   "metadata": {},
   "outputs": [
    {
     "data": {
      "text/plain": [
       "<AxesSubplot:xlabel='GOV_FOB', ylabel='SISC_FOB'>"
      ]
     },
     "execution_count": 52,
     "metadata": {},
     "output_type": "execute_result"
    },
    {
     "data": {
      "image/png": "[encoded data removed]",
      "text/plain": [
       "<Figure size 432x288 with 1 Axes>"
      ]
     },
     "metadata": {
      "needs_background": "light"
     },
     "output_type": "display_data"
    }
   ],
   "source": [
    "df_importacao.plot.scatter(x = 'GOV_FOB', y = 'SISC_FOB')"
   ]
  },
  {
   "cell_type": "code",
   "execution_count": 47,
   "id": "ff9dca98",
   "metadata": {},
   "outputs": [
    {
     "data": {
      "text/plain": [
       "<AxesSubplot:xlabel='GOV_PESO', ylabel='SISC_FOB'>"
      ]
     },
     "execution_count": 47,
     "metadata": {},
     "output_type": "execute_result"
    },
    {
     "data": {
      "image/png": "[encoded data removed]",
      "text/plain": [
       "<Figure size 432x288 with 1 Axes>"
      ]
     },
     "metadata": {
      "needs_background": "light"
     },
     "output_type": "display_data"
    }
   ],
   "source": [
    "df_importacao.plot.scatter(x = 'GOV_PESO', y = 'SISC_FOB')"
   ]
  },
  {
   "cell_type": "code",
   "execution_count": 49,
   "id": "349bdf64-a2f8-489f-9a01-cfff02e9fc8a",
   "metadata": {},
   "outputs": [
    {
     "data": {
      "text/plain": [
       "<AxesSubplot:xlabel='GOV_FRETE', ylabel='SISC_FOB'>"
      ]
     },
     "execution_count": 49,
     "metadata": {},
     "output_type": "execute_result"
    },
    {
     "data": {
      "image/png": "[encoded data removed]",
      "text/plain": [
       "<Figure size 432x288 with 1 Axes>"
      ]
     },
     "metadata": {
      "needs_background": "light"
     },
     "output_type": "display_data"
    }
   ],
   "source": [
    "df_importacao.plot.scatter(x = 'GOV_FRETE', y = 'SISC_FOB')"
   ]
  },
  {
   "cell_type": "markdown",
   "id": "90b02f8e",
   "metadata": {},
   "source": [
    "Aparentemente há uma correlação positiva entre os valores.\n",
    "Relizar um teste estatistico para avaliar"
   ]
  },
  {
   "cell_type": "markdown",
   "id": "906f02aa-7668-4585-8359-f541943525d0",
   "metadata": {},
   "source": [
    "### Analise estatistica"
   ]
  },
  {
   "cell_type": "code",
   "execution_count": 120,
   "id": "8ad1c487-22a7-43f3-a726-23d42ba8c12c",
   "metadata": {},
   "outputs": [],
   "source": [
    "\n",
    "import matplotlib.pyplot as plt\n",
    "import statsmodels.api as sm\n",
    "import statsmodels.formula.api as smf\n",
    "import seaborn as sns\n",
    "from statsmodels.graphics.gofplots import ProbPlot\n",
    "from scipy.stats import t\n",
    "from statsmodels.regression.linear_model import OLS\n",
    "from statsmodels.tools.tools import add_constant"
   ]
  },
  {
   "cell_type": "code",
   "execution_count": 56,
   "id": "a0521aea-4264-4cd8-bedc-5f49ec77d6dc",
   "metadata": {},
   "outputs": [
    {
     "name": "stdout",
     "output_type": "stream",
     "text": [
      "                            OLS Regression Results                            \n",
      "==============================================================================\n",
      "Dep. Variable:               SISC_FOB   R-squared:                       0.903\n",
      "Model:                            OLS   Adj. R-squared:                  0.890\n",
      "Method:                 Least Squares   F-statistic:                     67.68\n",
      "Date:                Sat, 23 Jul 2022   Prob (F-statistic):           2.77e-14\n",
      "Time:                        14:40:11   Log-Likelihood:                -361.66\n",
      "No. Observations:                  34   AIC:                             733.3\n",
      "Df Residuals:                      29   BIC:                             741.0\n",
      "Df Model:                           4                                         \n",
      "Covariance Type:            nonrobust                                         \n",
      "==============================================================================\n",
      "                 coef    std err          t      P>|t|      [0.025      0.975]\n",
      "------------------------------------------------------------------------------\n",
      "Intercept   9299.8567   3865.269      2.406      0.023    1394.494    1.72e+04\n",
      "GOV_FOB       -0.4066      0.106     -3.848      0.001      -0.623      -0.191\n",
      "GOV_PESO      17.7075      3.807      4.651      0.000       9.921      25.494\n",
      "GOV_QTD      -64.5034     76.442     -0.844      0.406    -220.844      91.837\n",
      "GOV_FRETE      1.3251      0.322      4.121      0.000       0.667       1.983\n",
      "GOV_SEGURO          0          0        nan        nan           0           0\n",
      "==============================================================================\n",
      "Omnibus:                        4.407   Durbin-Watson:                   1.921\n",
      "Prob(Omnibus):                  0.110   Jarque-Bera (JB):                4.222\n",
      "Skew:                           0.077   Prob(JB):                        0.121\n",
      "Kurtosis:                       4.719   Cond. No.                          inf\n",
      "==============================================================================\n",
      "\n",
      "Notes:\n",
      "[1] Standard Errors assume that the covariance matrix of the errors is correctly specified.\n",
      "[2] The smallest eigenvalue is      0. This might indicate that there are\n",
      "strong multicollinearity problems or that the design matrix is singular.\n"
     ]
    },
    {
     "name": "stderr",
     "output_type": "stream",
     "text": [
      "c:\\users\\carlos neri\\appdata\\local\\programs\\python\\python39\\lib\\site-packages\\statsmodels\\regression\\linear_model.py:1918: RuntimeWarning: divide by zero encountered in double_scalars\n",
      "  return np.sqrt(eigvals[0]/eigvals[-1])\n"
     ]
    }
   ],
   "source": [
    "model = smf.ols('SISC_FOB ~ GOV_FOB + GOV_PESO + GOV_QTD + GOV_FRETE + GOV_SEGURO', data = df_importacao)\n",
    "\n",
    "resumo = model.fit()\n",
    "print(resumo.summary())"
   ]
  },
  {
   "cell_type": "markdown",
   "id": "c91c02ea-126a-4072-a6c1-4641ebb2da51",
   "metadata": {},
   "source": [
    "Removendo o atributo GOV_SEGURO já que não traz nenhuma informação."
   ]
  },
  {
   "cell_type": "code",
   "execution_count": 58,
   "id": "db5e3966-acec-4f5e-ba3d-eee5de5be233",
   "metadata": {},
   "outputs": [
    {
     "name": "stdout",
     "output_type": "stream",
     "text": [
      "                            OLS Regression Results                            \n",
      "==============================================================================\n",
      "Dep. Variable:               SISC_FOB   R-squared:                       0.903\n",
      "Model:                            OLS   Adj. R-squared:                  0.890\n",
      "Method:                 Least Squares   F-statistic:                     67.68\n",
      "Date:                Sat, 23 Jul 2022   Prob (F-statistic):           2.77e-14\n",
      "Time:                        14:42:17   Log-Likelihood:                -361.66\n",
      "No. Observations:                  34   AIC:                             733.3\n",
      "Df Residuals:                      29   BIC:                             741.0\n",
      "Df Model:                           4                                         \n",
      "Covariance Type:            nonrobust                                         \n",
      "==============================================================================\n",
      "                 coef    std err          t      P>|t|      [0.025      0.975]\n",
      "------------------------------------------------------------------------------\n",
      "Intercept   9299.8567   3865.269      2.406      0.023    1394.494    1.72e+04\n",
      "GOV_FOB       -0.4066      0.106     -3.848      0.001      -0.623      -0.191\n",
      "GOV_PESO      17.7075      3.807      4.651      0.000       9.921      25.494\n",
      "GOV_QTD      -64.5034     76.442     -0.844      0.406    -220.844      91.837\n",
      "GOV_FRETE      1.3251      0.322      4.121      0.000       0.667       1.983\n",
      "==============================================================================\n",
      "Omnibus:                        4.407   Durbin-Watson:                   1.921\n",
      "Prob(Omnibus):                  0.110   Jarque-Bera (JB):                4.222\n",
      "Skew:                           0.077   Prob(JB):                        0.121\n",
      "Kurtosis:                       4.719   Cond. No.                     3.70e+05\n",
      "==============================================================================\n",
      "\n",
      "Notes:\n",
      "[1] Standard Errors assume that the covariance matrix of the errors is correctly specified.\n",
      "[2] The condition number is large, 3.7e+05. This might indicate that there are\n",
      "strong multicollinearity or other numerical problems.\n"
     ]
    }
   ],
   "source": [
    "model = smf.ols('SISC_FOB ~ GOV_FOB + GOV_PESO + GOV_QTD + GOV_FRETE', data = df_importacao)\n",
    "\n",
    "resumo = model.fit()\n",
    "print(resumo.summary())"
   ]
  },
  {
   "cell_type": "markdown",
   "id": "9615dec5",
   "metadata": {},
   "source": [
    "Teste de utilidade do modelo: <br>\n",
    "\n",
    "Hipótese nula 𝐇𝟎: 𝛃𝟏= 𝛃𝟐 = 𝛃𝟑=𝟎\n",
    "<br>\n",
    "Hipótese alternativa 𝐇1 pelo menos um 𝛃𝐢 ≠ 𝟎"
   ]
  },
  {
   "cell_type": "markdown",
   "id": "f0a03b72",
   "metadata": {},
   "source": [
    "f = [(R^2)/K]/[(1-R^2)/(n-(k+1))]"
   ]
  },
  {
   "cell_type": "markdown",
   "id": "95005495",
   "metadata": {},
   "source": [
    "F-statistic:67.68\n",
    "fcrit = 2,7 <br>\n",
    "Como f > fcrit indica que pelo menos um dos parametros é difernete de zero. "
   ]
  },
  {
   "cell_type": "markdown",
   "id": "04f29c9a",
   "metadata": {},
   "source": [
    "Teste individual dos parametros 𝛃𝟏, 𝛃𝟐 e 𝛃𝟑 <br>\n",
    "Teste de hipotese: <br>\n",
    "H0: 𝛃i = 0 <br>\n",
    "H1: 𝛃i ≠ 0  (| t |>= tcrit ) <br>\n",
    "𝒕𝒄rit =𝐭𝛂/𝟐,(𝐧−(𝐤+𝟏)) <br>\n",
    "dados: <br>\n",
    "n = 34 <br>\n",
    "k = 3 <br>\n",
    "𝛂 = 95%"
   ]
  },
  {
   "cell_type": "code",
   "execution_count": 63,
   "id": "c654aae4",
   "metadata": {},
   "outputs": [],
   "source": [
    "ic = 95 # incide de confiança\n",
    "n = 34\n",
    "k = 4\n",
    "alpha = (100 - ic)/100\n",
    "gl = n-(k+1)"
   ]
  },
  {
   "cell_type": "markdown",
   "id": "c950f1d9-81a7-4dff-ae92-b90d8c2bc32d",
   "metadata": {},
   "source": [
    "Determinação do t critico"
   ]
  },
  {
   "cell_type": "code",
   "execution_count": 64,
   "id": "4a729d8d",
   "metadata": {},
   "outputs": [
    {
     "data": {
      "text/plain": [
       "2.045229642132703"
      ]
     },
     "execution_count": 64,
     "metadata": {},
     "output_type": "execute_result"
    }
   ],
   "source": [
    "tcrit = t.ppf(1-alpha/2, gl)\n",
    "tcrit"
   ]
  },
  {
   "cell_type": "markdown",
   "id": "c662e792",
   "metadata": {},
   "source": [
    "Testes de GOV_FOB"
   ]
  },
  {
   "cell_type": "code",
   "execution_count": 73,
   "id": "ddf838d1",
   "metadata": {},
   "outputs": [
    {
     "data": {
      "text/plain": [
       "-0.1068032571578671"
      ]
     },
     "execution_count": 73,
     "metadata": {},
     "output_type": "execute_result"
    }
   ],
   "source": [
    "t_gov_fob = -0.4066/0.106\n",
    "t_gov_fob"
   ]
  },
  {
   "cell_type": "markdown",
   "id": "7b8ffb69",
   "metadata": {},
   "source": [
    "Como | t | > |tcrit| rejeita H0; GOV_FOB deve ser mantido"
   ]
  },
  {
   "cell_type": "markdown",
   "id": "79d73e2d",
   "metadata": {},
   "source": [
    "Teste de GOV_PESO "
   ]
  },
  {
   "cell_type": "code",
   "execution_count": 74,
   "id": "2930c27c",
   "metadata": {},
   "outputs": [
    {
     "data": {
      "text/plain": [
       "4.65130023640662"
      ]
     },
     "execution_count": 74,
     "metadata": {},
     "output_type": "execute_result"
    }
   ],
   "source": [
    "t_gov_peso = 17.7075/3.807\n",
    "t_gov_peso"
   ]
  },
  {
   "cell_type": "markdown",
   "id": "088c3966",
   "metadata": {},
   "source": [
    "Como | t | > |tcrit| rejeita H0; GOV_PESO deve ser mantido"
   ]
  },
  {
   "cell_type": "markdown",
   "id": "64118350",
   "metadata": {},
   "source": [
    "Teste de GOV_QTD"
   ]
  },
  {
   "cell_type": "code",
   "execution_count": 75,
   "id": "b5275dfc",
   "metadata": {},
   "outputs": [
    {
     "data": {
      "text/plain": [
       "-0.8438214594071323"
      ]
     },
     "execution_count": 75,
     "metadata": {},
     "output_type": "execute_result"
    }
   ],
   "source": [
    "t_gov_qtd = -64.5034 /76.442\n",
    "t_gov_qtd"
   ]
  },
  {
   "cell_type": "markdown",
   "id": "fd49f89d",
   "metadata": {},
   "source": [
    "Como | t | < |tcrit| NÃO rejeita H0; GOV_QTD deve ser retirado"
   ]
  },
  {
   "cell_type": "code",
   "execution_count": 76,
   "id": "1036df24-0e19-4f24-8d56-36ef5f37482a",
   "metadata": {},
   "outputs": [
    {
     "data": {
      "text/plain": [
       "4.1152173913043475"
      ]
     },
     "execution_count": 76,
     "metadata": {},
     "output_type": "execute_result"
    }
   ],
   "source": [
    "t_gov_frete = 1.3251/0.322\n",
    "t_gov_frete"
   ]
  },
  {
   "cell_type": "markdown",
   "id": "64d40921-dd14-4827-9f37-4de63845127f",
   "metadata": {},
   "source": [
    "Como | t | > |tcrit| rejeita H0; GOV_FRETE deve ser mantido"
   ]
  },
  {
   "cell_type": "markdown",
   "id": "99c0b638-81ee-4a22-9352-5071eb2e9812",
   "metadata": {},
   "source": [
    "Retirando a variavel GOV_PESO da analise"
   ]
  },
  {
   "cell_type": "code",
   "execution_count": 180,
   "id": "cc2161d9",
   "metadata": {},
   "outputs": [
    {
     "name": "stdout",
     "output_type": "stream",
     "text": [
      "                            OLS Regression Results                            \n",
      "==============================================================================\n",
      "Dep. Variable:               SISC_FOB   R-squared:                       0.901\n",
      "Model:                            OLS   Adj. R-squared:                  0.891\n",
      "Method:                 Least Squares   F-statistic:                     90.87\n",
      "Date:                Sat, 23 Jul 2022   Prob (F-statistic):           3.74e-15\n",
      "Time:                        17:43:29   Log-Likelihood:                -362.07\n",
      "No. Observations:                  34   AIC:                             732.1\n",
      "Df Residuals:                      30   BIC:                             738.3\n",
      "Df Model:                           3                                         \n",
      "Covariance Type:            nonrobust                                         \n",
      "==============================================================================\n",
      "                 coef    std err          t      P>|t|      [0.025      0.975]\n",
      "------------------------------------------------------------------------------\n",
      "Intercept   8253.9225   3643.521      2.265      0.031     812.860    1.57e+04\n",
      "GOV_FOB       -0.4552      0.088     -5.163      0.000      -0.635      -0.275\n",
      "GOV_PESO      18.6612      3.618      5.158      0.000      11.272      26.051\n",
      "GOV_FRETE      1.3249      0.320      4.140      0.000       0.671       1.978\n",
      "==============================================================================\n",
      "Omnibus:                        4.543   Durbin-Watson:                   1.881\n",
      "Prob(Omnibus):                  0.103   Jarque-Bera (JB):                4.480\n",
      "Skew:                           0.077   Prob(JB):                        0.106\n",
      "Kurtosis:                       4.772   Cond. No.                     3.50e+05\n",
      "==============================================================================\n",
      "\n",
      "Notes:\n",
      "[1] Standard Errors assume that the covariance matrix of the errors is correctly specified.\n",
      "[2] The condition number is large, 3.5e+05. This might indicate that there are\n",
      "strong multicollinearity or other numerical problems.\n"
     ]
    }
   ],
   "source": [
    "model = smf.ols('SISC_FOB ~ GOV_FOB + GOV_PESO +GOV_FRETE ', data = df_importacao)\n",
    "resumo = model.fit()\n",
    "print(resumo.summary())"
   ]
  },
  {
   "cell_type": "markdown",
   "id": "9a25e861",
   "metadata": {},
   "source": [
    "Conclusão até o momento é que há um relação entre o valor SISC_FOB e o parametros GOV_FOB e GOV_PESO. <br>\n",
    "Foi observado que a relação funciona levando em consideração os dados onde sabems que houve importação de fontes. <br>\n",
    "iremos trabalhar em uma maneira de classificar quando tivemos importação ou não."
   ]
  },
  {
   "cell_type": "markdown",
   "id": "a9c44101-fd39-4e48-ba1f-b0b68cc6c8b2",
   "metadata": {},
   "source": [
    "Testes de hipoteses com as 3 variaveis"
   ]
  },
  {
   "cell_type": "code",
   "execution_count": 78,
   "id": "0cb50b36-3f2f-45c3-b5f8-753df1b23c4b",
   "metadata": {},
   "outputs": [],
   "source": [
    "ic = 95 # incide de confiança\n",
    "n = 34\n",
    "k = 3\n",
    "alpha = (100 - ic)/100\n",
    "gl = n-(k+1)"
   ]
  },
  {
   "cell_type": "code",
   "execution_count": 79,
   "id": "079e42c5-c865-4a39-9d81-cd27c4fd78ba",
   "metadata": {},
   "outputs": [
    {
     "data": {
      "text/plain": [
       "2.0422724563012373"
      ]
     },
     "execution_count": 79,
     "metadata": {},
     "output_type": "execute_result"
    }
   ],
   "source": [
    "tcrit = t.ppf(1-alpha/2, gl)\n",
    "tcrit"
   ]
  },
  {
   "cell_type": "markdown",
   "id": "a5244897-ae12-49dc-a1e9-003c0735e64e",
   "metadata": {},
   "source": [
    "Valores de t do statsmodels\n",
    "      \n",
    "GOV_FOB:  -5.163      \n",
    "GOV_PESO:  5.158      \n",
    "GOV_FRETE: 4.140 <br>\n",
    "Vemos que todos os | t | > que o tcrit. <br>\n",
    "Portanto mantemos os parametros. "
   ]
  },
  {
   "cell_type": "markdown",
   "id": "27456582",
   "metadata": {},
   "source": [
    "Criando um dataframe apenas com as variaveis do modelo StatsModel."
   ]
  },
  {
   "cell_type": "code",
   "execution_count": 82,
   "id": "24a9fc5e-6dc1-44b2-81e6-91cae8e952a1",
   "metadata": {},
   "outputs": [
    {
     "data": {
      "text/plain": [
       "Index(['CO_ANO_MES', 'GOV_QTD', 'GOV_PESO', 'GOV_FOB', 'GOV_FRETE',\n",
       "       'GOV_SEGURO', 'SISC_QTD', 'SISC_FOB'],\n",
       "      dtype='object')"
      ]
     },
     "execution_count": 82,
     "metadata": {},
     "output_type": "execute_result"
    }
   ],
   "source": [
    "df_importacao.columns"
   ]
  },
  {
   "cell_type": "code",
   "execution_count": 83,
   "id": "095259a3-47b5-4125-804b-28cd9ff025b1",
   "metadata": {},
   "outputs": [],
   "source": [
    "df_statsmodel = df_importacao.drop(columns= ['GOV_QTD', 'GOV_SEGURO', 'SISC_QTD'])"
   ]
  },
  {
   "cell_type": "code",
   "execution_count": 84,
   "id": "67c12690-f635-42dd-bfaa-de48f22fc325",
   "metadata": {},
   "outputs": [
    {
     "data": {
      "text/html": [
       "<div>\n",
       "<style scoped>\n",
       "    .dataframe tbody tr th:only-of-type {\n",
       "        vertical-align: middle;\n",
       "    }\n",
       "\n",
       "    .dataframe tbody tr th {\n",
       "        vertical-align: top;\n",
       "    }\n",
       "\n",
       "    .dataframe thead th {\n",
       "        text-align: right;\n",
       "    }\n",
       "</style>\n",
       "<table border=\"1\" class=\"dataframe\">\n",
       "  <thead>\n",
       "    <tr style=\"text-align: right;\">\n",
       "      <th></th>\n",
       "      <th>CO_ANO_MES</th>\n",
       "      <th>GOV_PESO</th>\n",
       "      <th>GOV_FOB</th>\n",
       "      <th>GOV_FRETE</th>\n",
       "      <th>SISC_FOB</th>\n",
       "    </tr>\n",
       "  </thead>\n",
       "  <tbody>\n",
       "    <tr>\n",
       "      <th>0</th>\n",
       "      <td>2017-01-01</td>\n",
       "      <td>456</td>\n",
       "      <td>25228</td>\n",
       "      <td>1454</td>\n",
       "      <td>4421.72</td>\n",
       "    </tr>\n",
       "    <tr>\n",
       "      <th>5</th>\n",
       "      <td>2017-06-01</td>\n",
       "      <td>1519</td>\n",
       "      <td>59308</td>\n",
       "      <td>4605</td>\n",
       "      <td>12239.95</td>\n",
       "    </tr>\n",
       "    <tr>\n",
       "      <th>6</th>\n",
       "      <td>2017-07-01</td>\n",
       "      <td>1984</td>\n",
       "      <td>81930</td>\n",
       "      <td>6580</td>\n",
       "      <td>12239.95</td>\n",
       "    </tr>\n",
       "    <tr>\n",
       "      <th>9</th>\n",
       "      <td>2017-10-01</td>\n",
       "      <td>1011</td>\n",
       "      <td>38135</td>\n",
       "      <td>3141</td>\n",
       "      <td>12401.05</td>\n",
       "    </tr>\n",
       "    <tr>\n",
       "      <th>10</th>\n",
       "      <td>2017-11-01</td>\n",
       "      <td>1444</td>\n",
       "      <td>54103</td>\n",
       "      <td>4612</td>\n",
       "      <td>18290.52</td>\n",
       "    </tr>\n",
       "    <tr>\n",
       "      <th>12</th>\n",
       "      <td>2018-01-01</td>\n",
       "      <td>2325</td>\n",
       "      <td>54167</td>\n",
       "      <td>6784</td>\n",
       "      <td>55434.41</td>\n",
       "    </tr>\n",
       "    <tr>\n",
       "      <th>13</th>\n",
       "      <td>2018-02-01</td>\n",
       "      <td>947</td>\n",
       "      <td>32180</td>\n",
       "      <td>2906</td>\n",
       "      <td>16903.66</td>\n",
       "    </tr>\n",
       "    <tr>\n",
       "      <th>16</th>\n",
       "      <td>2018-05-01</td>\n",
       "      <td>3601</td>\n",
       "      <td>167607</td>\n",
       "      <td>10268</td>\n",
       "      <td>17484.08</td>\n",
       "    </tr>\n",
       "    <tr>\n",
       "      <th>20</th>\n",
       "      <td>2018-09-01</td>\n",
       "      <td>1758</td>\n",
       "      <td>51308</td>\n",
       "      <td>5155</td>\n",
       "      <td>26781.09</td>\n",
       "    </tr>\n",
       "    <tr>\n",
       "      <th>21</th>\n",
       "      <td>2018-10-01</td>\n",
       "      <td>6925</td>\n",
       "      <td>259753</td>\n",
       "      <td>20204</td>\n",
       "      <td>49443.10</td>\n",
       "    </tr>\n",
       "    <tr>\n",
       "      <th>22</th>\n",
       "      <td>2018-11-01</td>\n",
       "      <td>1646</td>\n",
       "      <td>75574</td>\n",
       "      <td>5199</td>\n",
       "      <td>12401.05</td>\n",
       "    </tr>\n",
       "    <tr>\n",
       "      <th>25</th>\n",
       "      <td>2019-02-01</td>\n",
       "      <td>2727</td>\n",
       "      <td>133239</td>\n",
       "      <td>8251</td>\n",
       "      <td>12401.05</td>\n",
       "    </tr>\n",
       "    <tr>\n",
       "      <th>26</th>\n",
       "      <td>2019-03-01</td>\n",
       "      <td>3984</td>\n",
       "      <td>116722</td>\n",
       "      <td>11001</td>\n",
       "      <td>37373.55</td>\n",
       "    </tr>\n",
       "    <tr>\n",
       "      <th>28</th>\n",
       "      <td>2019-05-01</td>\n",
       "      <td>1900</td>\n",
       "      <td>82070</td>\n",
       "      <td>5748</td>\n",
       "      <td>12239.95</td>\n",
       "    </tr>\n",
       "    <tr>\n",
       "      <th>30</th>\n",
       "      <td>2019-07-01</td>\n",
       "      <td>5534</td>\n",
       "      <td>182719</td>\n",
       "      <td>13240</td>\n",
       "      <td>32115.71</td>\n",
       "    </tr>\n",
       "    <tr>\n",
       "      <th>32</th>\n",
       "      <td>2019-09-01</td>\n",
       "      <td>2024</td>\n",
       "      <td>96006</td>\n",
       "      <td>4822</td>\n",
       "      <td>12401.05</td>\n",
       "    </tr>\n",
       "    <tr>\n",
       "      <th>33</th>\n",
       "      <td>2019-10-01</td>\n",
       "      <td>6109</td>\n",
       "      <td>234056</td>\n",
       "      <td>13509</td>\n",
       "      <td>40539.97</td>\n",
       "    </tr>\n",
       "    <tr>\n",
       "      <th>35</th>\n",
       "      <td>2019-12-01</td>\n",
       "      <td>3898</td>\n",
       "      <td>146933</td>\n",
       "      <td>9462</td>\n",
       "      <td>30757.88</td>\n",
       "    </tr>\n",
       "    <tr>\n",
       "      <th>37</th>\n",
       "      <td>2020-02-01</td>\n",
       "      <td>3953</td>\n",
       "      <td>115696</td>\n",
       "      <td>8849</td>\n",
       "      <td>31904.10</td>\n",
       "    </tr>\n",
       "    <tr>\n",
       "      <th>38</th>\n",
       "      <td>2020-03-01</td>\n",
       "      <td>3335</td>\n",
       "      <td>133298</td>\n",
       "      <td>9948</td>\n",
       "      <td>26093.62</td>\n",
       "    </tr>\n",
       "    <tr>\n",
       "      <th>43</th>\n",
       "      <td>2020-08-01</td>\n",
       "      <td>4768</td>\n",
       "      <td>151682</td>\n",
       "      <td>25425</td>\n",
       "      <td>32115.71</td>\n",
       "    </tr>\n",
       "    <tr>\n",
       "      <th>44</th>\n",
       "      <td>2020-09-01</td>\n",
       "      <td>4068</td>\n",
       "      <td>191343</td>\n",
       "      <td>20330</td>\n",
       "      <td>21268.84</td>\n",
       "    </tr>\n",
       "    <tr>\n",
       "      <th>46</th>\n",
       "      <td>2020-11-01</td>\n",
       "      <td>9426</td>\n",
       "      <td>326286</td>\n",
       "      <td>42868</td>\n",
       "      <td>81012.90</td>\n",
       "    </tr>\n",
       "    <tr>\n",
       "      <th>47</th>\n",
       "      <td>2020-12-01</td>\n",
       "      <td>4161</td>\n",
       "      <td>154607</td>\n",
       "      <td>18960</td>\n",
       "      <td>41144.60</td>\n",
       "    </tr>\n",
       "    <tr>\n",
       "      <th>48</th>\n",
       "      <td>2021-01-01</td>\n",
       "      <td>6637</td>\n",
       "      <td>211246</td>\n",
       "      <td>29111</td>\n",
       "      <td>102287.70</td>\n",
       "    </tr>\n",
       "    <tr>\n",
       "      <th>50</th>\n",
       "      <td>2021-03-01</td>\n",
       "      <td>6968</td>\n",
       "      <td>276973</td>\n",
       "      <td>33056</td>\n",
       "      <td>62873.59</td>\n",
       "    </tr>\n",
       "    <tr>\n",
       "      <th>51</th>\n",
       "      <td>2021-04-01</td>\n",
       "      <td>4899</td>\n",
       "      <td>194509</td>\n",
       "      <td>22672</td>\n",
       "      <td>49443.10</td>\n",
       "    </tr>\n",
       "    <tr>\n",
       "      <th>52</th>\n",
       "      <td>2021-05-01</td>\n",
       "      <td>4028</td>\n",
       "      <td>123552</td>\n",
       "      <td>17458</td>\n",
       "      <td>45479.89</td>\n",
       "    </tr>\n",
       "    <tr>\n",
       "      <th>53</th>\n",
       "      <td>2021-06-01</td>\n",
       "      <td>8400</td>\n",
       "      <td>246169</td>\n",
       "      <td>35037</td>\n",
       "      <td>118200.25</td>\n",
       "    </tr>\n",
       "    <tr>\n",
       "      <th>54</th>\n",
       "      <td>2021-07-01</td>\n",
       "      <td>3005</td>\n",
       "      <td>90276</td>\n",
       "      <td>12725</td>\n",
       "      <td>33568.33</td>\n",
       "    </tr>\n",
       "    <tr>\n",
       "      <th>55</th>\n",
       "      <td>2021-08-01</td>\n",
       "      <td>2206</td>\n",
       "      <td>85223</td>\n",
       "      <td>9387</td>\n",
       "      <td>13430.49</td>\n",
       "    </tr>\n",
       "    <tr>\n",
       "      <th>56</th>\n",
       "      <td>2021-09-01</td>\n",
       "      <td>12991</td>\n",
       "      <td>409358</td>\n",
       "      <td>71910</td>\n",
       "      <td>154777.68</td>\n",
       "    </tr>\n",
       "    <tr>\n",
       "      <th>57</th>\n",
       "      <td>2021-10-01</td>\n",
       "      <td>9188</td>\n",
       "      <td>346115</td>\n",
       "      <td>17113</td>\n",
       "      <td>32816.76</td>\n",
       "    </tr>\n",
       "    <tr>\n",
       "      <th>58</th>\n",
       "      <td>2021-11-01</td>\n",
       "      <td>5007</td>\n",
       "      <td>191980</td>\n",
       "      <td>16766</td>\n",
       "      <td>44421.93</td>\n",
       "    </tr>\n",
       "  </tbody>\n",
       "</table>\n",
       "</div>"
      ],
      "text/plain": [
       "   CO_ANO_MES  GOV_PESO  GOV_FOB  GOV_FRETE   SISC_FOB\n",
       "0  2017-01-01       456    25228       1454    4421.72\n",
       "5  2017-06-01      1519    59308       4605   12239.95\n",
       "6  2017-07-01      1984    81930       6580   12239.95\n",
       "9  2017-10-01      1011    38135       3141   12401.05\n",
       "10 2017-11-01      1444    54103       4612   18290.52\n",
       "12 2018-01-01      2325    54167       6784   55434.41\n",
       "13 2018-02-01       947    32180       2906   16903.66\n",
       "16 2018-05-01      3601   167607      10268   17484.08\n",
       "20 2018-09-01      1758    51308       5155   26781.09\n",
       "21 2018-10-01      6925   259753      20204   49443.10\n",
       "22 2018-11-01      1646    75574       5199   12401.05\n",
       "25 2019-02-01      2727   133239       8251   12401.05\n",
       "26 2019-03-01      3984   116722      11001   37373.55\n",
       "28 2019-05-01      1900    82070       5748   12239.95\n",
       "30 2019-07-01      5534   182719      13240   32115.71\n",
       "32 2019-09-01      2024    96006       4822   12401.05\n",
       "33 2019-10-01      6109   234056      13509   40539.97\n",
       "35 2019-12-01      3898   146933       9462   30757.88\n",
       "37 2020-02-01      3953   115696       8849   31904.10\n",
       "38 2020-03-01      3335   133298       9948   26093.62\n",
       "43 2020-08-01      4768   151682      25425   32115.71\n",
       "44 2020-09-01      4068   191343      20330   21268.84\n",
       "46 2020-11-01      9426   326286      42868   81012.90\n",
       "47 2020-12-01      4161   154607      18960   41144.60\n",
       "48 2021-01-01      6637   211246      29111  102287.70\n",
       "50 2021-03-01      6968   276973      33056   62873.59\n",
       "51 2021-04-01      4899   194509      22672   49443.10\n",
       "52 2021-05-01      4028   123552      17458   45479.89\n",
       "53 2021-06-01      8400   246169      35037  118200.25\n",
       "54 2021-07-01      3005    90276      12725   33568.33\n",
       "55 2021-08-01      2206    85223       9387   13430.49\n",
       "56 2021-09-01     12991   409358      71910  154777.68\n",
       "57 2021-10-01      9188   346115      17113   32816.76\n",
       "58 2021-11-01      5007   191980      16766   44421.93"
      ]
     },
     "execution_count": 84,
     "metadata": {},
     "output_type": "execute_result"
    }
   ],
   "source": [
    "df_statsmodel"
   ]
  },
  {
   "cell_type": "markdown",
   "id": "6aa924f1-7c84-4164-a3af-25d60f1e666c",
   "metadata": {},
   "source": [
    "Verificação de multicolinearidade."
   ]
  },
  {
   "cell_type": "code",
   "execution_count": 112,
   "id": "b60b20f4-d4e6-4c07-9891-7c83238a148f",
   "metadata": {},
   "outputs": [
    {
     "name": "stdout",
     "output_type": "stream",
     "text": [
      "           GOV_PESO   GOV_FOB  GOV_FRETE  SISC_FOB\n",
      "GOV_PESO   1.000000  0.972244   0.901094  0.838640\n",
      "GOV_FOB    0.972244  1.000000   0.848584  0.727535\n",
      "GOV_FRETE  0.901094  0.848584   1.000000  0.899147\n",
      "SISC_FOB   0.838640  0.727535   0.899147  1.000000\n"
     ]
    }
   ],
   "source": [
    "corr = df_statsmodel.corr()\n",
    "print(corr)"
   ]
  },
  {
   "cell_type": "code",
   "execution_count": null,
   "id": "927df61a-1972-45da-96a1-f254a26410fb",
   "metadata": {},
   "outputs": [],
   "source": []
  },
  {
   "cell_type": "markdown",
   "id": "c9454cdd-82af-471e-b90d-d8a26360bbd3",
   "metadata": {},
   "source": [
    "Valor de R^2 ajustado do modelo <br>\n",
    "r^2 = 0,891"
   ]
  },
  {
   "cell_type": "code",
   "execution_count": 111,
   "id": "bf87ca41-6672-4f39-93c3-d6b6253c507c",
   "metadata": {},
   "outputs": [
    {
     "name": "stdout",
     "output_type": "stream",
     "text": [
      "           GOV_PESO   GOV_FOB  GOV_FRETE  SISC_FOB\n",
      "GOV_PESO   1.000000  0.945257   0.811971  0.703317\n",
      "GOV_FOB    0.945257  1.000000   0.720096  0.529307\n",
      "GOV_FRETE  0.811971  0.720096   1.000000  0.808465\n",
      "SISC_FOB   0.703317  0.529307   0.808465  1.000000\n"
     ]
    }
   ],
   "source": [
    "mc2 = corr**2\n",
    "print(mc2)"
   ]
  },
  {
   "cell_type": "code",
   "execution_count": 151,
   "id": "b88f754d-aaed-44ea-a83b-53fb508113b4",
   "metadata": {},
   "outputs": [
    {
     "name": "stdout",
     "output_type": "stream",
     "text": [
      "[[ 20.51843799 -15.93788613  -0.97258069  -5.20863552]\n",
      " [-15.93788613  14.49230421  -1.02631536   4.36824892]\n",
      " [ -0.97258069  -1.02631536   4.43596972  -2.35905847]\n",
      " [ -5.20863552   4.36824892  -2.35905847   4.25839452]]\n"
     ]
    }
   ],
   "source": [
    "vif = np.linalg.inv(mc2)\n",
    "print(vif)"
   ]
  },
  {
   "cell_type": "markdown",
   "id": "e94b5902-d0ba-4244-a0d3-3d0bf7193d5d",
   "metadata": {},
   "source": [
    "Vemos a prsença de multicolinearidade entre as variaveis GOV_FOB e GOV_PESO."
   ]
  },
  {
   "cell_type": "markdown",
   "id": "a48d9ef3-cad7-4074-a291-3db0e645300d",
   "metadata": {},
   "source": [
    "Vamos restirar a variavel GOV_PESO e refazer a analise."
   ]
  },
  {
   "cell_type": "code",
   "execution_count": 193,
   "id": "c34273d1-4624-46b8-a789-ff3b03b32e2b",
   "metadata": {},
   "outputs": [
    {
     "name": "stdout",
     "output_type": "stream",
     "text": [
      "                            OLS Regression Results                            \n",
      "==============================================================================\n",
      "Dep. Variable:               SISC_FOB   R-squared:                       0.813\n",
      "Model:                            OLS   Adj. R-squared:                  0.801\n",
      "Method:                 Least Squares   F-statistic:                     67.37\n",
      "Date:                Sat, 23 Jul 2022   Prob (F-statistic):           5.19e-12\n",
      "Time:                        17:54:30   Log-Likelihood:                -372.87\n",
      "No. Observations:                  34   AIC:                             751.7\n",
      "Df Residuals:                      31   BIC:                             756.3\n",
      "Df Model:                           2                                         \n",
      "Covariance Type:            nonrobust                                         \n",
      "==============================================================================\n",
      "                 coef    std err          t      P>|t|      [0.025      0.975]\n",
      "------------------------------------------------------------------------------\n",
      "Intercept   8684.9709   4921.970      1.765      0.087   -1353.452    1.87e+04\n",
      "GOV_FRETE      2.3391      0.341      6.857      0.000       1.643       3.035\n",
      "GOV_FOB       -0.0438      0.051     -0.863      0.395      -0.147       0.060\n",
      "==============================================================================\n",
      "Omnibus:                        9.559   Durbin-Watson:                   1.715\n",
      "Prob(Omnibus):                  0.008   Jarque-Bera (JB):                8.958\n",
      "Skew:                           0.905   Prob(JB):                       0.0113\n",
      "Kurtosis:                       4.746   Cond. No.                     3.50e+05\n",
      "==============================================================================\n",
      "\n",
      "Notes:\n",
      "[1] Standard Errors assume that the covariance matrix of the errors is correctly specified.\n",
      "[2] The condition number is large, 3.5e+05. This might indicate that there are\n",
      "strong multicollinearity or other numerical problems.\n"
     ]
    }
   ],
   "source": [
    "model = smf.ols('SISC_FOB ~ GOV_FRETE + GOV_FOB ', data = df_importacao)\n",
    "resumo1 = model.fit()\n",
    "print(resumo1.summary())"
   ]
  },
  {
   "cell_type": "code",
   "execution_count": 194,
   "id": "f529f8ea-f75c-470d-9854-d8e3115cab6e",
   "metadata": {},
   "outputs": [],
   "source": [
    "ic = 95 # incide de confiança\n",
    "n = 34\n",
    "k = 2\n",
    "alpha = (100 - ic)/100\n",
    "gl = n-(k+1)"
   ]
  },
  {
   "cell_type": "code",
   "execution_count": 195,
   "id": "ec435f37-e102-46d8-b8da-e82fdffbcd30",
   "metadata": {},
   "outputs": [
    {
     "data": {
      "text/plain": [
       "2.0395134463964077"
      ]
     },
     "execution_count": 195,
     "metadata": {},
     "output_type": "execute_result"
    }
   ],
   "source": [
    "tcrit = t.ppf(1-alpha/2, gl)\n",
    "tcrit"
   ]
  },
  {
   "cell_type": "markdown",
   "id": "243c8eae-dee8-4016-9117-9be34e45ef34",
   "metadata": {},
   "source": [
    "Retirando o valor de GOV_FOB"
   ]
  },
  {
   "cell_type": "code",
   "execution_count": 225,
   "id": "85f38738-51c3-4733-927b-d1c86a04409c",
   "metadata": {},
   "outputs": [
    {
     "name": "stdout",
     "output_type": "stream",
     "text": [
      "                            OLS Regression Results                            \n",
      "==============================================================================\n",
      "Dep. Variable:               SISC_FOB   R-squared:                       0.808\n",
      "Model:                            OLS   Adj. R-squared:                  0.802\n",
      "Method:                 Least Squares   F-statistic:                     135.1\n",
      "Date:                Sat, 23 Jul 2022   Prob (F-statistic):           5.07e-13\n",
      "Time:                        18:07:57   Log-Likelihood:                -373.27\n",
      "No. Observations:                  34   AIC:                             750.5\n",
      "Df Residuals:                      32   BIC:                             753.6\n",
      "Df Model:                           1                                         \n",
      "Covariance Type:            nonrobust                                         \n",
      "==============================================================================\n",
      "                 coef    std err          t      P>|t|      [0.025      0.975]\n",
      "------------------------------------------------------------------------------\n",
      "Intercept   5953.2448   3754.171      1.586      0.123   -1693.752    1.36e+04\n",
      "GOV_FRETE      2.0893      0.180     11.622      0.000       1.723       2.455\n",
      "==============================================================================\n",
      "Omnibus:                       11.184   Durbin-Watson:                   1.723\n",
      "Prob(Omnibus):                  0.004   Jarque-Bera (JB):               11.038\n",
      "Skew:                           1.039   Prob(JB):                      0.00401\n",
      "Kurtosis:                       4.863   Cond. No.                     3.13e+04\n",
      "==============================================================================\n",
      "\n",
      "Notes:\n",
      "[1] Standard Errors assume that the covariance matrix of the errors is correctly specified.\n",
      "[2] The condition number is large, 3.13e+04. This might indicate that there are\n",
      "strong multicollinearity or other numerical problems.\n"
     ]
    }
   ],
   "source": [
    "model = smf.ols('SISC_FOB ~ GOV_FRETE', data = df_importacao)\n",
    "resumo2 = model.fit()\n",
    "print(resumo2.summary())"
   ]
  },
  {
   "cell_type": "markdown",
   "id": "bfe4c983-f9a6-421f-98e9-12c0ec68b74e",
   "metadata": {},
   "source": [
    "Analise do modelo"
   ]
  },
  {
   "cell_type": "code",
   "execution_count": 209,
   "id": "7dad83da-126f-4c13-8433-94b5dee8f62b",
   "metadata": {},
   "outputs": [],
   "source": [
    "#valor previsto \n",
    "y_pred = list(resumo2.predict())"
   ]
  },
  {
   "cell_type": "code",
   "execution_count": 210,
   "id": "7f22ec26-078f-4499-be81-dc00b657c3bb",
   "metadata": {},
   "outputs": [],
   "source": [
    "#valor do residuo\n",
    "residuo = list(resumo2.resid)"
   ]
  },
  {
   "cell_type": "code",
   "execution_count": 211,
   "id": "8b3f24b5-7fbf-47e5-a883-ed756a2d8152",
   "metadata": {},
   "outputs": [],
   "source": [
    "influence = resumo2.get_influence()"
   ]
  },
  {
   "cell_type": "code",
   "execution_count": 212,
   "id": "71347640-dd11-41b4-bae2-9627adfe45b6",
   "metadata": {},
   "outputs": [],
   "source": [
    "#obter residuos estandarizados\n",
    "stdresid = list(influence.resid_studentized_internal)"
   ]
  },
  {
   "cell_type": "code",
   "execution_count": 213,
   "id": "50059e81-a600-4e32-bc89-2389864a7f8d",
   "metadata": {},
   "outputs": [],
   "source": [
    "prop = np.divide(residuo,stdresid)  "
   ]
  },
  {
   "cell_type": "code",
   "execution_count": 214,
   "id": "6382c531-a21c-4ffd-904a-1aa3c2c01393",
   "metadata": {},
   "outputs": [],
   "source": [
    "y = list(df_statsmodel['SISC_FOB'])"
   ]
  },
  {
   "cell_type": "code",
   "execution_count": 215,
   "id": "534d4f27-96f2-4f9a-9f5f-bfaad49989a1",
   "metadata": {},
   "outputs": [
    {
     "data": {
      "text/html": [
       "<div>\n",
       "<style scoped>\n",
       "    .dataframe tbody tr th:only-of-type {\n",
       "        vertical-align: middle;\n",
       "    }\n",
       "\n",
       "    .dataframe tbody tr th {\n",
       "        vertical-align: top;\n",
       "    }\n",
       "\n",
       "    .dataframe thead th {\n",
       "        text-align: right;\n",
       "    }\n",
       "</style>\n",
       "<table border=\"1\" class=\"dataframe\">\n",
       "  <thead>\n",
       "    <tr style=\"text-align: right;\">\n",
       "      <th></th>\n",
       "      <th>y</th>\n",
       "      <th>y_p</th>\n",
       "      <th>e</th>\n",
       "      <th>e*</th>\n",
       "      <th>e/e*</th>\n",
       "    </tr>\n",
       "  </thead>\n",
       "  <tbody>\n",
       "    <tr>\n",
       "      <th>0</th>\n",
       "      <td>4421.72</td>\n",
       "      <td>8991.050829</td>\n",
       "      <td>-4569.330829</td>\n",
       "      <td>-0.322338</td>\n",
       "      <td>14175.609644</td>\n",
       "    </tr>\n",
       "    <tr>\n",
       "      <th>1</th>\n",
       "      <td>12239.95</td>\n",
       "      <td>15574.356774</td>\n",
       "      <td>-3334.406774</td>\n",
       "      <td>-0.233744</td>\n",
       "      <td>14265.236429</td>\n",
       "    </tr>\n",
       "    <tr>\n",
       "      <th>2</th>\n",
       "      <td>12239.95</td>\n",
       "      <td>19700.675162</td>\n",
       "      <td>-7460.725162</td>\n",
       "      <td>-0.521375</td>\n",
       "      <td>14309.700024</td>\n",
       "    </tr>\n",
       "    <tr>\n",
       "      <th>3</th>\n",
       "      <td>12401.05</td>\n",
       "      <td>12515.657979</td>\n",
       "      <td>-114.607979</td>\n",
       "      <td>-0.008056</td>\n",
       "      <td>14226.470202</td>\n",
       "    </tr>\n",
       "    <tr>\n",
       "      <th>4</th>\n",
       "      <td>18290.52</td>\n",
       "      <td>15588.981700</td>\n",
       "      <td>2701.538300</td>\n",
       "      <td>0.189377</td>\n",
       "      <td>14265.409871</td>\n",
       "    </tr>\n",
       "    <tr>\n",
       "      <th>5</th>\n",
       "      <td>55434.41</td>\n",
       "      <td>20126.887289</td>\n",
       "      <td>35307.522711</td>\n",
       "      <td>2.466680</td>\n",
       "      <td>14313.783059</td>\n",
       "    </tr>\n",
       "    <tr>\n",
       "      <th>6</th>\n",
       "      <td>16903.66</td>\n",
       "      <td>12024.678323</td>\n",
       "      <td>4878.981677</td>\n",
       "      <td>0.343112</td>\n",
       "      <td>14219.783949</td>\n",
       "    </tr>\n",
       "    <tr>\n",
       "      <th>7</th>\n",
       "      <td>17484.08</td>\n",
       "      <td>27405.921853</td>\n",
       "      <td>-9921.841853</td>\n",
       "      <td>-0.690508</td>\n",
       "      <td>14368.894049</td>\n",
       "    </tr>\n",
       "    <tr>\n",
       "      <th>8</th>\n",
       "      <td>26781.09</td>\n",
       "      <td>16723.458097</td>\n",
       "      <td>10057.631903</td>\n",
       "      <td>0.704389</td>\n",
       "      <td>14278.519570</td>\n",
       "    </tr>\n",
       "    <tr>\n",
       "      <th>9</th>\n",
       "      <td>49443.10</td>\n",
       "      <td>48164.959576</td>\n",
       "      <td>1278.140424</td>\n",
       "      <td>0.088909</td>\n",
       "      <td>14375.814633</td>\n",
       "    </tr>\n",
       "  </tbody>\n",
       "</table>\n",
       "</div>"
      ],
      "text/plain": [
       "          y           y_p             e        e*          e/e*\n",
       "0   4421.72   8991.050829  -4569.330829 -0.322338  14175.609644\n",
       "1  12239.95  15574.356774  -3334.406774 -0.233744  14265.236429\n",
       "2  12239.95  19700.675162  -7460.725162 -0.521375  14309.700024\n",
       "3  12401.05  12515.657979   -114.607979 -0.008056  14226.470202\n",
       "4  18290.52  15588.981700   2701.538300  0.189377  14265.409871\n",
       "5  55434.41  20126.887289  35307.522711  2.466680  14313.783059\n",
       "6  16903.66  12024.678323   4878.981677  0.343112  14219.783949\n",
       "7  17484.08  27405.921853  -9921.841853 -0.690508  14368.894049\n",
       "8  26781.09  16723.458097  10057.631903  0.704389  14278.519570\n",
       "9  49443.10  48164.959576   1278.140424  0.088909  14375.814633"
      ]
     },
     "execution_count": 215,
     "metadata": {},
     "output_type": "execute_result"
    }
   ],
   "source": [
    "dftab = pd.DataFrame(list(zip(y, y_pred, residuo, stdresid, prop)),columns = [\"y\", \"y_p\", \"e\", \"e*\", \"e/e*\"])\n",
    "dftab.head(10)"
   ]
  },
  {
   "cell_type": "code",
   "execution_count": 216,
   "id": "439ac6c0-bde7-44ba-a8d7-ecbd216e5056",
   "metadata": {},
   "outputs": [
    {
     "data": {
      "image/png": "[encoded data removed]",
      "text/plain": [
       "<Figure size 360x360 with 1 Axes>"
      ]
     },
     "metadata": {
      "needs_background": "light"
     },
     "output_type": "display_data"
    }
   ],
   "source": [
    "sns.lmplot(x = 'y', y = 'y_p', data=dftab); plt.grid(True)\n",
    "plt.xlabel('Valores observados: y = SISC_FOB')\n",
    "plt.ylabel('valores esperados: y_pred = SISC_FOB')\n",
    "\n",
    "plt.show()"
   ]
  },
  {
   "cell_type": "code",
   "execution_count": 217,
   "id": "34e50cee-ae84-4ce2-b075-241f8d2cdc36",
   "metadata": {},
   "outputs": [
    {
     "data": {
      "image/png": "[encoded data removed]",
      "text/plain": [
       "<Figure size 432x288 with 1 Axes>"
      ]
     },
     "metadata": {
      "needs_background": "light"
     },
     "output_type": "display_data"
    }
   ],
   "source": [
    "sns.scatterplot(x = 'y', y = 'e*', data=dftab); plt.grid(True)\n",
    "plt.xlabel('Valores observados: y = SISC_FOB')\n",
    "plt.ylabel('e* = Residuo padronizado')\n",
    "plt.axhline(y=0, color='black', linestyle ='--', linewidth=1)\n",
    "plt.show()"
   ]
  },
  {
   "cell_type": "code",
   "execution_count": 218,
   "id": "ac448365-252f-41d3-9af5-55f42799dcce",
   "metadata": {},
   "outputs": [
    {
     "name": "stderr",
     "output_type": "stream",
     "text": [
      "c:\\users\\carlos neri\\appdata\\local\\programs\\python\\python39\\lib\\site-packages\\statsmodels\\graphics\\gofplots.py:1045: UserWarning: color is redundantly defined by the 'color' keyword argument and the fmt string \"b\" (-> color=(0.0, 0.0, 1.0, 1)). The keyword argument will take precedence.\n",
      "  ax.plot(x, y, fmt, **plot_style)\n"
     ]
    },
    {
     "data": {
      "image/png": "[encoded data removed]",
      "text/plain": [
       "<Figure size 432x288 with 1 Axes>"
      ]
     },
     "metadata": {
      "needs_background": "light"
     },
     "output_type": "display_data"
    }
   ],
   "source": [
    "QQ = ProbPlot(influence.resid_studentized_internal)\n",
    "plot_lm_2 = QQ.qqplot(line='45', alpha =0.5, color = 'red', lw = 1)\n",
    "plot_lm_2.axes[0].set_xlabel('Percentil')\n",
    "plot_lm_2.axes[0].set_ylabel('Residuo padronizados')\n",
    "plt.grid(True)"
   ]
  },
  {
   "cell_type": "markdown",
   "id": "43fc453a-a300-433f-a48f-77435b1e4325",
   "metadata": {},
   "source": [
    "O modelo apresenta condições de uso."
   ]
  },
  {
   "cell_type": "markdown",
   "id": "55fb14a5-49ec-4b89-8a32-e7c4f5b3dd50",
   "metadata": {},
   "source": [
    "O modelo foi testado onde sabemos que possuimos importações, ou seja, foram desconsiderados os dados onde o valor do SISB_FOB = 0 que representa não haver importação das fontes. <br>\n",
    "O valor de GOV_FRETE foi visto como o que apresenta maior relevancia de todas os dados. \n",
    "Nesse caso antes de aplicar o modelo tenho que pasasr os dados por uma classificação binária em teve ou não importação.\n"
   ]
  },
  {
   "cell_type": "markdown",
   "id": "748b7968-7aa5-47f8-8761-9745d665b13e",
   "metadata": {},
   "source": [
    "### Modelo para classificação"
   ]
  },
  {
   "cell_type": "markdown",
   "id": "cac50db2-a6fb-4a06-93eb-21e330e25fdf",
   "metadata": {},
   "source": [
    "Primeiro separar os dados de 2022 que não temos informação e estes serão os dados que iremos avaliar"
   ]
  },
  {
   "cell_type": "code",
   "execution_count": 248,
   "id": "ec1a249e-8632-48a5-8ded-44691f3c7632",
   "metadata": {},
   "outputs": [],
   "source": [
    "df_2022 = df[df['CO_ANO_MES'].dt.year==2022]"
   ]
  },
  {
   "cell_type": "markdown",
   "id": "ea89b3f3-5b7e-4c69-b587-691591e97716",
   "metadata": {},
   "source": [
    "Criar um DF com os dados antes de 2022"
   ]
  },
  {
   "cell_type": "code",
   "execution_count": 273,
   "id": "2748120d-e04f-4094-a95e-fb34437998d1",
   "metadata": {},
   "outputs": [],
   "source": [
    "df_teste = df[df['CO_ANO_MES'].dt.year<2022]"
   ]
  },
  {
   "cell_type": "code",
   "execution_count": 280,
   "id": "c5fd779b-3cd4-45aa-a043-85974b3d058f",
   "metadata": {},
   "outputs": [
    {
     "data": {
      "text/html": [
       "<div>\n",
       "<style scoped>\n",
       "    .dataframe tbody tr th:only-of-type {\n",
       "        vertical-align: middle;\n",
       "    }\n",
       "\n",
       "    .dataframe tbody tr th {\n",
       "        vertical-align: top;\n",
       "    }\n",
       "\n",
       "    .dataframe thead th {\n",
       "        text-align: right;\n",
       "    }\n",
       "</style>\n",
       "<table border=\"1\" class=\"dataframe\">\n",
       "  <thead>\n",
       "    <tr style=\"text-align: right;\">\n",
       "      <th></th>\n",
       "      <th>CO_ANO_MES</th>\n",
       "      <th>GOV_QTD</th>\n",
       "      <th>GOV_PESO</th>\n",
       "      <th>GOV_FOB</th>\n",
       "      <th>GOV_FRETE</th>\n",
       "      <th>GOV_SEGURO</th>\n",
       "      <th>SISC_QTD</th>\n",
       "      <th>SISC_FOB</th>\n",
       "      <th>IMPORTACAO</th>\n",
       "    </tr>\n",
       "  </thead>\n",
       "  <tbody>\n",
       "    <tr>\n",
       "      <th>0</th>\n",
       "      <td>2017-01-01</td>\n",
       "      <td>14</td>\n",
       "      <td>456</td>\n",
       "      <td>25228</td>\n",
       "      <td>1454</td>\n",
       "      <td>0</td>\n",
       "      <td>1.0</td>\n",
       "      <td>4421.72</td>\n",
       "      <td>1</td>\n",
       "    </tr>\n",
       "    <tr>\n",
       "      <th>1</th>\n",
       "      <td>2017-02-01</td>\n",
       "      <td>10</td>\n",
       "      <td>1088</td>\n",
       "      <td>25784</td>\n",
       "      <td>3338</td>\n",
       "      <td>0</td>\n",
       "      <td>0.0</td>\n",
       "      <td>0.00</td>\n",
       "      <td>0</td>\n",
       "    </tr>\n",
       "    <tr>\n",
       "      <th>2</th>\n",
       "      <td>2017-03-01</td>\n",
       "      <td>62</td>\n",
       "      <td>4750</td>\n",
       "      <td>148973</td>\n",
       "      <td>14445</td>\n",
       "      <td>0</td>\n",
       "      <td>0.0</td>\n",
       "      <td>0.00</td>\n",
       "      <td>0</td>\n",
       "    </tr>\n",
       "    <tr>\n",
       "      <th>3</th>\n",
       "      <td>2017-04-01</td>\n",
       "      <td>37</td>\n",
       "      <td>2553</td>\n",
       "      <td>86534</td>\n",
       "      <td>7468</td>\n",
       "      <td>0</td>\n",
       "      <td>0.0</td>\n",
       "      <td>0.00</td>\n",
       "      <td>0</td>\n",
       "    </tr>\n",
       "    <tr>\n",
       "      <th>4</th>\n",
       "      <td>2017-05-01</td>\n",
       "      <td>25</td>\n",
       "      <td>1487</td>\n",
       "      <td>54522</td>\n",
       "      <td>4672</td>\n",
       "      <td>0</td>\n",
       "      <td>0.0</td>\n",
       "      <td>0.00</td>\n",
       "      <td>0</td>\n",
       "    </tr>\n",
       "    <tr>\n",
       "      <th>5</th>\n",
       "      <td>2017-06-01</td>\n",
       "      <td>174</td>\n",
       "      <td>1519</td>\n",
       "      <td>59308</td>\n",
       "      <td>4605</td>\n",
       "      <td>0</td>\n",
       "      <td>2.0</td>\n",
       "      <td>12239.95</td>\n",
       "      <td>1</td>\n",
       "    </tr>\n",
       "    <tr>\n",
       "      <th>6</th>\n",
       "      <td>2017-07-01</td>\n",
       "      <td>38</td>\n",
       "      <td>1984</td>\n",
       "      <td>81930</td>\n",
       "      <td>6580</td>\n",
       "      <td>0</td>\n",
       "      <td>2.0</td>\n",
       "      <td>12239.95</td>\n",
       "      <td>1</td>\n",
       "    </tr>\n",
       "    <tr>\n",
       "      <th>7</th>\n",
       "      <td>2017-08-01</td>\n",
       "      <td>23</td>\n",
       "      <td>1021</td>\n",
       "      <td>45902</td>\n",
       "      <td>3319</td>\n",
       "      <td>0</td>\n",
       "      <td>0.0</td>\n",
       "      <td>0.00</td>\n",
       "      <td>0</td>\n",
       "    </tr>\n",
       "    <tr>\n",
       "      <th>8</th>\n",
       "      <td>2017-09-01</td>\n",
       "      <td>35</td>\n",
       "      <td>1474</td>\n",
       "      <td>66857</td>\n",
       "      <td>4807</td>\n",
       "      <td>0</td>\n",
       "      <td>0.0</td>\n",
       "      <td>0.00</td>\n",
       "      <td>0</td>\n",
       "    </tr>\n",
       "    <tr>\n",
       "      <th>9</th>\n",
       "      <td>2017-10-01</td>\n",
       "      <td>17</td>\n",
       "      <td>1011</td>\n",
       "      <td>38135</td>\n",
       "      <td>3141</td>\n",
       "      <td>0</td>\n",
       "      <td>1.0</td>\n",
       "      <td>12401.05</td>\n",
       "      <td>1</td>\n",
       "    </tr>\n",
       "  </tbody>\n",
       "</table>\n",
       "</div>"
      ],
      "text/plain": [
       "  CO_ANO_MES  GOV_QTD  GOV_PESO  GOV_FOB  GOV_FRETE  GOV_SEGURO  SISC_QTD  \\\n",
       "0 2017-01-01       14       456    25228       1454           0       1.0   \n",
       "1 2017-02-01       10      1088    25784       3338           0       0.0   \n",
       "2 2017-03-01       62      4750   148973      14445           0       0.0   \n",
       "3 2017-04-01       37      2553    86534       7468           0       0.0   \n",
       "4 2017-05-01       25      1487    54522       4672           0       0.0   \n",
       "5 2017-06-01      174      1519    59308       4605           0       2.0   \n",
       "6 2017-07-01       38      1984    81930       6580           0       2.0   \n",
       "7 2017-08-01       23      1021    45902       3319           0       0.0   \n",
       "8 2017-09-01       35      1474    66857       4807           0       0.0   \n",
       "9 2017-10-01       17      1011    38135       3141           0       1.0   \n",
       "\n",
       "   SISC_FOB  IMPORTACAO  \n",
       "0   4421.72           1  \n",
       "1      0.00           0  \n",
       "2      0.00           0  \n",
       "3      0.00           0  \n",
       "4      0.00           0  \n",
       "5  12239.95           1  \n",
       "6  12239.95           1  \n",
       "7      0.00           0  \n",
       "8      0.00           0  \n",
       "9  12401.05           1  "
      ]
     },
     "execution_count": 280,
     "metadata": {},
     "output_type": "execute_result"
    }
   ],
   "source": [
    "df_teste.head(10)"
   ]
  },
  {
   "cell_type": "code",
   "execution_count": 281,
   "id": "086158e7-26e7-47e9-9ab0-095bbe40fa13",
   "metadata": {},
   "outputs": [
    {
     "data": {
      "text/plain": [
       "0     True\n",
       "1    False\n",
       "2    False\n",
       "3    False\n",
       "4    False\n",
       "5     True\n",
       "6     True\n",
       "7    False\n",
       "8    False\n",
       "9     True\n",
       "Name: SISC_QTD, dtype: bool"
      ]
     },
     "execution_count": 281,
     "metadata": {},
     "output_type": "execute_result"
    }
   ],
   "source": [
    "filtro = df_teste['SISC_QTD'] > 0\n",
    "filtro.head(10)"
   ]
  },
  {
   "cell_type": "raw",
   "id": "3dc7cec2-e0fb-432b-94a4-a56ebda564f5",
   "metadata": {},
   "source": [
    "Criando uma varivel importacao que indica se houve ou nao importacao"
   ]
  },
  {
   "cell_type": "code",
   "execution_count": 284,
   "id": "6af6c648-90b6-455b-b833-9a5a5c266c88",
   "metadata": {},
   "outputs": [
    {
     "name": "stderr",
     "output_type": "stream",
     "text": [
      "<ipython-input-284-13651a22259d>:1: SettingWithCopyWarning: \n",
      "A value is trying to be set on a copy of a slice from a DataFrame.\n",
      "Try using .loc[row_indexer,col_indexer] = value instead\n",
      "\n",
      "See the caveats in the documentation: https://pandas.pydata.org/pandas-docs/stable/user_guide/indexing.html#returning-a-view-versus-a-copy\n",
      "  df_teste['IMPORTACAO'] = 0\n"
     ]
    },
    {
     "data": {
      "text/html": [
       "<div>\n",
       "<style scoped>\n",
       "    .dataframe tbody tr th:only-of-type {\n",
       "        vertical-align: middle;\n",
       "    }\n",
       "\n",
       "    .dataframe tbody tr th {\n",
       "        vertical-align: top;\n",
       "    }\n",
       "\n",
       "    .dataframe thead th {\n",
       "        text-align: right;\n",
       "    }\n",
       "</style>\n",
       "<table border=\"1\" class=\"dataframe\">\n",
       "  <thead>\n",
       "    <tr style=\"text-align: right;\">\n",
       "      <th></th>\n",
       "      <th>CO_ANO_MES</th>\n",
       "      <th>GOV_QTD</th>\n",
       "      <th>GOV_PESO</th>\n",
       "      <th>GOV_FOB</th>\n",
       "      <th>GOV_FRETE</th>\n",
       "      <th>GOV_SEGURO</th>\n",
       "      <th>SISC_QTD</th>\n",
       "      <th>SISC_FOB</th>\n",
       "      <th>IMPORTACAO</th>\n",
       "    </tr>\n",
       "  </thead>\n",
       "  <tbody>\n",
       "    <tr>\n",
       "      <th>0</th>\n",
       "      <td>2017-01-01</td>\n",
       "      <td>14</td>\n",
       "      <td>456</td>\n",
       "      <td>25228</td>\n",
       "      <td>1454</td>\n",
       "      <td>0</td>\n",
       "      <td>1.0</td>\n",
       "      <td>4421.72</td>\n",
       "      <td>0</td>\n",
       "    </tr>\n",
       "    <tr>\n",
       "      <th>1</th>\n",
       "      <td>2017-02-01</td>\n",
       "      <td>10</td>\n",
       "      <td>1088</td>\n",
       "      <td>25784</td>\n",
       "      <td>3338</td>\n",
       "      <td>0</td>\n",
       "      <td>0.0</td>\n",
       "      <td>0.00</td>\n",
       "      <td>0</td>\n",
       "    </tr>\n",
       "    <tr>\n",
       "      <th>2</th>\n",
       "      <td>2017-03-01</td>\n",
       "      <td>62</td>\n",
       "      <td>4750</td>\n",
       "      <td>148973</td>\n",
       "      <td>14445</td>\n",
       "      <td>0</td>\n",
       "      <td>0.0</td>\n",
       "      <td>0.00</td>\n",
       "      <td>0</td>\n",
       "    </tr>\n",
       "    <tr>\n",
       "      <th>3</th>\n",
       "      <td>2017-04-01</td>\n",
       "      <td>37</td>\n",
       "      <td>2553</td>\n",
       "      <td>86534</td>\n",
       "      <td>7468</td>\n",
       "      <td>0</td>\n",
       "      <td>0.0</td>\n",
       "      <td>0.00</td>\n",
       "      <td>0</td>\n",
       "    </tr>\n",
       "    <tr>\n",
       "      <th>4</th>\n",
       "      <td>2017-05-01</td>\n",
       "      <td>25</td>\n",
       "      <td>1487</td>\n",
       "      <td>54522</td>\n",
       "      <td>4672</td>\n",
       "      <td>0</td>\n",
       "      <td>0.0</td>\n",
       "      <td>0.00</td>\n",
       "      <td>0</td>\n",
       "    </tr>\n",
       "    <tr>\n",
       "      <th>5</th>\n",
       "      <td>2017-06-01</td>\n",
       "      <td>174</td>\n",
       "      <td>1519</td>\n",
       "      <td>59308</td>\n",
       "      <td>4605</td>\n",
       "      <td>0</td>\n",
       "      <td>2.0</td>\n",
       "      <td>12239.95</td>\n",
       "      <td>0</td>\n",
       "    </tr>\n",
       "    <tr>\n",
       "      <th>6</th>\n",
       "      <td>2017-07-01</td>\n",
       "      <td>38</td>\n",
       "      <td>1984</td>\n",
       "      <td>81930</td>\n",
       "      <td>6580</td>\n",
       "      <td>0</td>\n",
       "      <td>2.0</td>\n",
       "      <td>12239.95</td>\n",
       "      <td>0</td>\n",
       "    </tr>\n",
       "    <tr>\n",
       "      <th>7</th>\n",
       "      <td>2017-08-01</td>\n",
       "      <td>23</td>\n",
       "      <td>1021</td>\n",
       "      <td>45902</td>\n",
       "      <td>3319</td>\n",
       "      <td>0</td>\n",
       "      <td>0.0</td>\n",
       "      <td>0.00</td>\n",
       "      <td>0</td>\n",
       "    </tr>\n",
       "    <tr>\n",
       "      <th>8</th>\n",
       "      <td>2017-09-01</td>\n",
       "      <td>35</td>\n",
       "      <td>1474</td>\n",
       "      <td>66857</td>\n",
       "      <td>4807</td>\n",
       "      <td>0</td>\n",
       "      <td>0.0</td>\n",
       "      <td>0.00</td>\n",
       "      <td>0</td>\n",
       "    </tr>\n",
       "    <tr>\n",
       "      <th>9</th>\n",
       "      <td>2017-10-01</td>\n",
       "      <td>17</td>\n",
       "      <td>1011</td>\n",
       "      <td>38135</td>\n",
       "      <td>3141</td>\n",
       "      <td>0</td>\n",
       "      <td>1.0</td>\n",
       "      <td>12401.05</td>\n",
       "      <td>0</td>\n",
       "    </tr>\n",
       "  </tbody>\n",
       "</table>\n",
       "</div>"
      ],
      "text/plain": [
       "  CO_ANO_MES  GOV_QTD  GOV_PESO  GOV_FOB  GOV_FRETE  GOV_SEGURO  SISC_QTD  \\\n",
       "0 2017-01-01       14       456    25228       1454           0       1.0   \n",
       "1 2017-02-01       10      1088    25784       3338           0       0.0   \n",
       "2 2017-03-01       62      4750   148973      14445           0       0.0   \n",
       "3 2017-04-01       37      2553    86534       7468           0       0.0   \n",
       "4 2017-05-01       25      1487    54522       4672           0       0.0   \n",
       "5 2017-06-01      174      1519    59308       4605           0       2.0   \n",
       "6 2017-07-01       38      1984    81930       6580           0       2.0   \n",
       "7 2017-08-01       23      1021    45902       3319           0       0.0   \n",
       "8 2017-09-01       35      1474    66857       4807           0       0.0   \n",
       "9 2017-10-01       17      1011    38135       3141           0       1.0   \n",
       "\n",
       "   SISC_FOB  IMPORTACAO  \n",
       "0   4421.72           0  \n",
       "1      0.00           0  \n",
       "2      0.00           0  \n",
       "3      0.00           0  \n",
       "4      0.00           0  \n",
       "5  12239.95           0  \n",
       "6  12239.95           0  \n",
       "7      0.00           0  \n",
       "8      0.00           0  \n",
       "9  12401.05           0  "
      ]
     },
     "execution_count": 284,
     "metadata": {},
     "output_type": "execute_result"
    }
   ],
   "source": [
    "df_teste['IMPORTACAO'] = 0\n",
    "df_teste.head(10)"
   ]
  },
  {
   "cell_type": "code",
   "execution_count": 285,
   "id": "6c1b1394-f4f4-489d-8427-7a0dddb54dcd",
   "metadata": {},
   "outputs": [
    {
     "name": "stderr",
     "output_type": "stream",
     "text": [
      "c:\\users\\carlos neri\\appdata\\local\\programs\\python\\python39\\lib\\site-packages\\pandas\\core\\indexing.py:1720: SettingWithCopyWarning: \n",
      "A value is trying to be set on a copy of a slice from a DataFrame.\n",
      "Try using .loc[row_indexer,col_indexer] = value instead\n",
      "\n",
      "See the caveats in the documentation: https://pandas.pydata.org/pandas-docs/stable/user_guide/indexing.html#returning-a-view-versus-a-copy\n",
      "  self._setitem_single_column(loc, value, pi)\n"
     ]
    }
   ],
   "source": [
    "df_teste.loc[filtro, 'IMPORTACAO'] = 1"
   ]
  },
  {
   "cell_type": "code",
   "execution_count": 286,
   "id": "327a7ea3-9404-438b-96ef-a07b34375a47",
   "metadata": {},
   "outputs": [
    {
     "data": {
      "text/html": [
       "<div>\n",
       "<style scoped>\n",
       "    .dataframe tbody tr th:only-of-type {\n",
       "        vertical-align: middle;\n",
       "    }\n",
       "\n",
       "    .dataframe tbody tr th {\n",
       "        vertical-align: top;\n",
       "    }\n",
       "\n",
       "    .dataframe thead th {\n",
       "        text-align: right;\n",
       "    }\n",
       "</style>\n",
       "<table border=\"1\" class=\"dataframe\">\n",
       "  <thead>\n",
       "    <tr style=\"text-align: right;\">\n",
       "      <th></th>\n",
       "      <th>CO_ANO_MES</th>\n",
       "      <th>GOV_QTD</th>\n",
       "      <th>GOV_PESO</th>\n",
       "      <th>GOV_FOB</th>\n",
       "      <th>GOV_FRETE</th>\n",
       "      <th>GOV_SEGURO</th>\n",
       "      <th>SISC_QTD</th>\n",
       "      <th>SISC_FOB</th>\n",
       "      <th>IMPORTACAO</th>\n",
       "    </tr>\n",
       "  </thead>\n",
       "  <tbody>\n",
       "    <tr>\n",
       "      <th>0</th>\n",
       "      <td>2017-01-01</td>\n",
       "      <td>14</td>\n",
       "      <td>456</td>\n",
       "      <td>25228</td>\n",
       "      <td>1454</td>\n",
       "      <td>0</td>\n",
       "      <td>1.0</td>\n",
       "      <td>4421.72</td>\n",
       "      <td>1</td>\n",
       "    </tr>\n",
       "    <tr>\n",
       "      <th>1</th>\n",
       "      <td>2017-02-01</td>\n",
       "      <td>10</td>\n",
       "      <td>1088</td>\n",
       "      <td>25784</td>\n",
       "      <td>3338</td>\n",
       "      <td>0</td>\n",
       "      <td>0.0</td>\n",
       "      <td>0.00</td>\n",
       "      <td>0</td>\n",
       "    </tr>\n",
       "    <tr>\n",
       "      <th>2</th>\n",
       "      <td>2017-03-01</td>\n",
       "      <td>62</td>\n",
       "      <td>4750</td>\n",
       "      <td>148973</td>\n",
       "      <td>14445</td>\n",
       "      <td>0</td>\n",
       "      <td>0.0</td>\n",
       "      <td>0.00</td>\n",
       "      <td>0</td>\n",
       "    </tr>\n",
       "    <tr>\n",
       "      <th>3</th>\n",
       "      <td>2017-04-01</td>\n",
       "      <td>37</td>\n",
       "      <td>2553</td>\n",
       "      <td>86534</td>\n",
       "      <td>7468</td>\n",
       "      <td>0</td>\n",
       "      <td>0.0</td>\n",
       "      <td>0.00</td>\n",
       "      <td>0</td>\n",
       "    </tr>\n",
       "    <tr>\n",
       "      <th>4</th>\n",
       "      <td>2017-05-01</td>\n",
       "      <td>25</td>\n",
       "      <td>1487</td>\n",
       "      <td>54522</td>\n",
       "      <td>4672</td>\n",
       "      <td>0</td>\n",
       "      <td>0.0</td>\n",
       "      <td>0.00</td>\n",
       "      <td>0</td>\n",
       "    </tr>\n",
       "    <tr>\n",
       "      <th>5</th>\n",
       "      <td>2017-06-01</td>\n",
       "      <td>174</td>\n",
       "      <td>1519</td>\n",
       "      <td>59308</td>\n",
       "      <td>4605</td>\n",
       "      <td>0</td>\n",
       "      <td>2.0</td>\n",
       "      <td>12239.95</td>\n",
       "      <td>1</td>\n",
       "    </tr>\n",
       "    <tr>\n",
       "      <th>6</th>\n",
       "      <td>2017-07-01</td>\n",
       "      <td>38</td>\n",
       "      <td>1984</td>\n",
       "      <td>81930</td>\n",
       "      <td>6580</td>\n",
       "      <td>0</td>\n",
       "      <td>2.0</td>\n",
       "      <td>12239.95</td>\n",
       "      <td>1</td>\n",
       "    </tr>\n",
       "    <tr>\n",
       "      <th>7</th>\n",
       "      <td>2017-08-01</td>\n",
       "      <td>23</td>\n",
       "      <td>1021</td>\n",
       "      <td>45902</td>\n",
       "      <td>3319</td>\n",
       "      <td>0</td>\n",
       "      <td>0.0</td>\n",
       "      <td>0.00</td>\n",
       "      <td>0</td>\n",
       "    </tr>\n",
       "    <tr>\n",
       "      <th>8</th>\n",
       "      <td>2017-09-01</td>\n",
       "      <td>35</td>\n",
       "      <td>1474</td>\n",
       "      <td>66857</td>\n",
       "      <td>4807</td>\n",
       "      <td>0</td>\n",
       "      <td>0.0</td>\n",
       "      <td>0.00</td>\n",
       "      <td>0</td>\n",
       "    </tr>\n",
       "    <tr>\n",
       "      <th>9</th>\n",
       "      <td>2017-10-01</td>\n",
       "      <td>17</td>\n",
       "      <td>1011</td>\n",
       "      <td>38135</td>\n",
       "      <td>3141</td>\n",
       "      <td>0</td>\n",
       "      <td>1.0</td>\n",
       "      <td>12401.05</td>\n",
       "      <td>1</td>\n",
       "    </tr>\n",
       "  </tbody>\n",
       "</table>\n",
       "</div>"
      ],
      "text/plain": [
       "  CO_ANO_MES  GOV_QTD  GOV_PESO  GOV_FOB  GOV_FRETE  GOV_SEGURO  SISC_QTD  \\\n",
       "0 2017-01-01       14       456    25228       1454           0       1.0   \n",
       "1 2017-02-01       10      1088    25784       3338           0       0.0   \n",
       "2 2017-03-01       62      4750   148973      14445           0       0.0   \n",
       "3 2017-04-01       37      2553    86534       7468           0       0.0   \n",
       "4 2017-05-01       25      1487    54522       4672           0       0.0   \n",
       "5 2017-06-01      174      1519    59308       4605           0       2.0   \n",
       "6 2017-07-01       38      1984    81930       6580           0       2.0   \n",
       "7 2017-08-01       23      1021    45902       3319           0       0.0   \n",
       "8 2017-09-01       35      1474    66857       4807           0       0.0   \n",
       "9 2017-10-01       17      1011    38135       3141           0       1.0   \n",
       "\n",
       "   SISC_FOB  IMPORTACAO  \n",
       "0   4421.72           1  \n",
       "1      0.00           0  \n",
       "2      0.00           0  \n",
       "3      0.00           0  \n",
       "4      0.00           0  \n",
       "5  12239.95           1  \n",
       "6  12239.95           1  \n",
       "7      0.00           0  \n",
       "8      0.00           0  \n",
       "9  12401.05           1  "
      ]
     },
     "execution_count": 286,
     "metadata": {},
     "output_type": "execute_result"
    }
   ],
   "source": [
    "df_teste.head(10)"
   ]
  },
  {
   "cell_type": "code",
   "execution_count": 288,
   "id": "1fc0e074-ac3c-433e-ab48-afd38653c150",
   "metadata": {},
   "outputs": [],
   "source": [
    "limpeza = ['CO_ANO_MES','GOV_SEGURO','SISC_QTD','SISC_FOB',]"
   ]
  },
  {
   "cell_type": "code",
   "execution_count": null,
   "id": "dd335b55-1cf7-45d1-9e04-1effe9491e0a",
   "metadata": {},
   "outputs": [],
   "source": [
    "df_teste.drop(columns=limpeza, inplace = True)"
   ]
  },
  {
   "cell_type": "code",
   "execution_count": null,
   "id": "3bcf8321-e8e8-44aa-ad23-ec7e71384e83",
   "metadata": {},
   "outputs": [],
   "source": [
    "df_2022.drop(columns=limpeza, inplace = True)"
   ]
  },
  {
   "cell_type": "code",
   "execution_count": 292,
   "id": "6a93f406-5ec4-4af3-b1ba-112091a4e71c",
   "metadata": {},
   "outputs": [
    {
     "data": {
      "text/html": [
       "<div>\n",
       "<style scoped>\n",
       "    .dataframe tbody tr th:only-of-type {\n",
       "        vertical-align: middle;\n",
       "    }\n",
       "\n",
       "    .dataframe tbody tr th {\n",
       "        vertical-align: top;\n",
       "    }\n",
       "\n",
       "    .dataframe thead th {\n",
       "        text-align: right;\n",
       "    }\n",
       "</style>\n",
       "<table border=\"1\" class=\"dataframe\">\n",
       "  <thead>\n",
       "    <tr style=\"text-align: right;\">\n",
       "      <th></th>\n",
       "      <th>GOV_QTD</th>\n",
       "      <th>GOV_PESO</th>\n",
       "      <th>GOV_FOB</th>\n",
       "      <th>GOV_FRETE</th>\n",
       "      <th>IMPORTACAO</th>\n",
       "    </tr>\n",
       "  </thead>\n",
       "  <tbody>\n",
       "    <tr>\n",
       "      <th>0</th>\n",
       "      <td>14</td>\n",
       "      <td>456</td>\n",
       "      <td>25228</td>\n",
       "      <td>1454</td>\n",
       "      <td>1</td>\n",
       "    </tr>\n",
       "    <tr>\n",
       "      <th>1</th>\n",
       "      <td>10</td>\n",
       "      <td>1088</td>\n",
       "      <td>25784</td>\n",
       "      <td>3338</td>\n",
       "      <td>0</td>\n",
       "    </tr>\n",
       "    <tr>\n",
       "      <th>2</th>\n",
       "      <td>62</td>\n",
       "      <td>4750</td>\n",
       "      <td>148973</td>\n",
       "      <td>14445</td>\n",
       "      <td>0</td>\n",
       "    </tr>\n",
       "    <tr>\n",
       "      <th>3</th>\n",
       "      <td>37</td>\n",
       "      <td>2553</td>\n",
       "      <td>86534</td>\n",
       "      <td>7468</td>\n",
       "      <td>0</td>\n",
       "    </tr>\n",
       "    <tr>\n",
       "      <th>4</th>\n",
       "      <td>25</td>\n",
       "      <td>1487</td>\n",
       "      <td>54522</td>\n",
       "      <td>4672</td>\n",
       "      <td>0</td>\n",
       "    </tr>\n",
       "  </tbody>\n",
       "</table>\n",
       "</div>"
      ],
      "text/plain": [
       "   GOV_QTD  GOV_PESO  GOV_FOB  GOV_FRETE  IMPORTACAO\n",
       "0       14       456    25228       1454           1\n",
       "1       10      1088    25784       3338           0\n",
       "2       62      4750   148973      14445           0\n",
       "3       37      2553    86534       7468           0\n",
       "4       25      1487    54522       4672           0"
      ]
     },
     "execution_count": 292,
     "metadata": {},
     "output_type": "execute_result"
    }
   ],
   "source": [
    "df_teste.head()"
   ]
  },
  {
   "cell_type": "code",
   "execution_count": 293,
   "id": "dc1993f3-827d-4a72-bf94-bfdc43bf68a2",
   "metadata": {},
   "outputs": [
    {
     "data": {
      "text/html": [
       "<div>\n",
       "<style scoped>\n",
       "    .dataframe tbody tr th:only-of-type {\n",
       "        vertical-align: middle;\n",
       "    }\n",
       "\n",
       "    .dataframe tbody tr th {\n",
       "        vertical-align: top;\n",
       "    }\n",
       "\n",
       "    .dataframe thead th {\n",
       "        text-align: right;\n",
       "    }\n",
       "</style>\n",
       "<table border=\"1\" class=\"dataframe\">\n",
       "  <thead>\n",
       "    <tr style=\"text-align: right;\">\n",
       "      <th></th>\n",
       "      <th>GOV_QTD</th>\n",
       "      <th>GOV_PESO</th>\n",
       "      <th>GOV_FOB</th>\n",
       "      <th>GOV_FRETE</th>\n",
       "    </tr>\n",
       "  </thead>\n",
       "  <tbody>\n",
       "    <tr>\n",
       "      <th>60</th>\n",
       "      <td>51</td>\n",
       "      <td>2065</td>\n",
       "      <td>84605</td>\n",
       "      <td>8653</td>\n",
       "    </tr>\n",
       "    <tr>\n",
       "      <th>61</th>\n",
       "      <td>39</td>\n",
       "      <td>8813</td>\n",
       "      <td>199246</td>\n",
       "      <td>36303</td>\n",
       "    </tr>\n",
       "    <tr>\n",
       "      <th>62</th>\n",
       "      <td>72</td>\n",
       "      <td>5924</td>\n",
       "      <td>173435</td>\n",
       "      <td>25819</td>\n",
       "    </tr>\n",
       "    <tr>\n",
       "      <th>63</th>\n",
       "      <td>59</td>\n",
       "      <td>3330</td>\n",
       "      <td>115905</td>\n",
       "      <td>15741</td>\n",
       "    </tr>\n",
       "    <tr>\n",
       "      <th>64</th>\n",
       "      <td>106</td>\n",
       "      <td>7965</td>\n",
       "      <td>269738</td>\n",
       "      <td>17895</td>\n",
       "    </tr>\n",
       "  </tbody>\n",
       "</table>\n",
       "</div>"
      ],
      "text/plain": [
       "    GOV_QTD  GOV_PESO  GOV_FOB  GOV_FRETE\n",
       "60       51      2065    84605       8653\n",
       "61       39      8813   199246      36303\n",
       "62       72      5924   173435      25819\n",
       "63       59      3330   115905      15741\n",
       "64      106      7965   269738      17895"
      ]
     },
     "execution_count": 293,
     "metadata": {},
     "output_type": "execute_result"
    }
   ],
   "source": [
    "df_2022.head()"
   ]
  },
  {
   "cell_type": "code",
   "execution_count": 412,
   "id": "69995ded-ff17-4f2c-95ce-1bb3c769d81c",
   "metadata": {},
   "outputs": [
    {
     "data": {
      "text/plain": [
       "26"
      ]
     },
     "execution_count": 412,
     "metadata": {},
     "output_type": "execute_result"
    }
   ],
   "source": [
    "len(df_teste[df_teste['IMPORTACAO']==0])"
   ]
  },
  {
   "cell_type": "markdown",
   "id": "68f788a9-78a1-469a-a89f-02a8c04725fe",
   "metadata": {},
   "source": [
    "#### Importação das bibliotecas "
   ]
  },
  {
   "cell_type": "code",
   "execution_count": 294,
   "id": "fe40c527-6203-4f97-a727-076b089b8f52",
   "metadata": {},
   "outputs": [],
   "source": [
    "from sklearn import tree\n",
    "from sklearn.model_selection import train_test_split\n",
    "from sklearn.metrics import accuracy_score\n",
    "from sklearn.model_selection import cross_val_score # Validação cruzada\n",
    "from sklearn.model_selection import StratifiedKFold # "
   ]
  },
  {
   "cell_type": "markdown",
   "id": "c7399e47-0182-4a10-a06b-e8fc795e791c",
   "metadata": {},
   "source": [
    "#### Arvore de decisão"
   ]
  },
  {
   "cell_type": "code",
   "execution_count": 397,
   "id": "d95d5688-7ca3-493d-b3c2-bc477a33510d",
   "metadata": {},
   "outputs": [],
   "source": [
    "clf_arvore = tree.DecisionTreeClassifier(max_depth=3, )"
   ]
  },
  {
   "cell_type": "code",
   "execution_count": 398,
   "id": "816027ef-d5a0-43e4-a2e0-55d9f69a1539",
   "metadata": {},
   "outputs": [],
   "source": [
    "y  = df_teste['IMPORTACAO']"
   ]
  },
  {
   "cell_type": "code",
   "execution_count": 399,
   "id": "9633e54f-2b08-4670-8270-2aec46729a3e",
   "metadata": {},
   "outputs": [],
   "source": [
    "X = df_teste.drop(columns = ['IMPORTACAO'])"
   ]
  },
  {
   "cell_type": "code",
   "execution_count": 400,
   "id": "df4576ed-2dde-4c6d-a59f-d3befe918d80",
   "metadata": {},
   "outputs": [],
   "source": [
    "X_train, X_test, y_train, y_test = train_test_split(X, y, random_state=10, test_size = 0.5)"
   ]
  },
  {
   "cell_type": "code",
   "execution_count": 401,
   "id": "10d8b037-1f6a-4cf6-8df3-99533a3aa53e",
   "metadata": {},
   "outputs": [],
   "source": [
    "clf_arvore = clf_arvore.fit(X_train, y_train)"
   ]
  },
  {
   "cell_type": "code",
   "execution_count": 402,
   "id": "2ec6d32b-3a53-42c2-bbb6-1682372ab55b",
   "metadata": {},
   "outputs": [],
   "source": [
    "y_res_arvore_decisao = clf.predict(X_test)"
   ]
  },
  {
   "cell_type": "code",
   "execution_count": 403,
   "id": "692d3775-1db9-4d14-b5a0-ab8230f933f3",
   "metadata": {},
   "outputs": [
    {
     "data": {
      "text/plain": [
       "0.7"
      ]
     },
     "execution_count": 403,
     "metadata": {},
     "output_type": "execute_result"
    }
   ],
   "source": [
    "accuracy_score(y_test, y_res_arvore_decisao)"
   ]
  },
  {
   "cell_type": "code",
   "execution_count": 404,
   "id": "1d2b99a6-450b-4d50-8c33-731b029566f3",
   "metadata": {},
   "outputs": [
    {
     "data": {
      "text/plain": [
       "array([1, 1, 1, 1, 1, 0, 1, 1, 1, 1, 1, 1, 1, 1, 0, 1, 1, 1, 1, 0, 1, 1,\n",
       "       1, 0, 0, 1, 1, 1, 1, 1], dtype=int64)"
      ]
     },
     "execution_count": 404,
     "metadata": {},
     "output_type": "execute_result"
    }
   ],
   "source": [
    "y_res_arvore_decisao"
   ]
  },
  {
   "cell_type": "code",
   "execution_count": null,
   "id": "d653202f-8156-4620-824d-680e8820845b",
   "metadata": {},
   "outputs": [],
   "source": [
    "y_test.tolist()"
   ]
  },
  {
   "cell_type": "code",
   "execution_count": null,
   "id": "dfa97907-c819-4290-9beb-c369dc5a7e27",
   "metadata": {},
   "outputs": [],
   "source": [
    "cv = StratifiedKFold(n_splits = 5, shuffle = True)\n",
    "scores = cross_val_score(clf, X, y, cv=5)"
   ]
  },
  {
   "cell_type": "code",
   "execution_count": null,
   "id": "1b275277-0dbf-4d14-9002-baac2dd2e26c",
   "metadata": {},
   "outputs": [],
   "source": [
    "def intervalo(results):\n",
    "    mean = results.mean()\n",
    "    dv = results.std()\n",
    "    print('Acurácia média: {:.2f}%'.format(mean*100))\n",
    "    print('Intervalo de acurácia: [{:.2f}% ~ {:.2f}%]'\n",
    "           .format((mean - 2*dv)*100, (mean + 2*dv)*100))\n",
    "intervalo(results)"
   ]
  },
  {
   "cell_type": "markdown",
   "id": "c21809de-6fe9-4081-a810-b56a096fb26b",
   "metadata": {},
   "source": [
    "Analise com Knn"
   ]
  },
  {
   "cell_type": "code",
   "execution_count": null,
   "id": "9f4a6616-943e-4a88-aa76-4c50e38322d8",
   "metadata": {},
   "outputs": [],
   "source": [
    "instervalo(scores)"
   ]
  },
  {
   "cell_type": "code",
   "execution_count": 378,
   "id": "4fde20b1-f659-46aa-98a8-b107a2acc4ca",
   "metadata": {},
   "outputs": [],
   "source": [
    "from sklearn.neighbors import NearestCentroid"
   ]
  },
  {
   "cell_type": "code",
   "execution_count": 379,
   "id": "2c0d4a16-20a4-416d-bcdf-fa1b7571ef0d",
   "metadata": {},
   "outputs": [],
   "source": [
    "clf_knn = NearestCentroid()"
   ]
  },
  {
   "cell_type": "code",
   "execution_count": 380,
   "id": "3790dcb4-dffb-44a7-8634-b2aed9d3f211",
   "metadata": {},
   "outputs": [
    {
     "data": {
      "text/html": [
       "<style>#sk-container-id-3 {color: black;background-color: white;}#sk-container-id-3 pre{padding: 0;}#sk-container-id-3 div.sk-toggleable {background-color: white;}#sk-container-id-3 label.sk-toggleable__label {cursor: pointer;display: block;width: 100%;margin-bottom: 0;padding: 0.3em;box-sizing: border-box;text-align: center;}#sk-container-id-3 label.sk-toggleable__label-arrow:before {content: \"▸\";float: left;margin-right: 0.25em;color: #696969;}#sk-container-id-3 label.sk-toggleable__label-arrow:hover:before {color: black;}#sk-container-id-3 div.sk-estimator:hover label.sk-toggleable__label-arrow:before {color: black;}#sk-container-id-3 div.sk-toggleable__content {max-height: 0;max-width: 0;overflow: hidden;text-align: left;background-color: #f0f8ff;}#sk-container-id-3 div.sk-toggleable__content pre {margin: 0.2em;color: black;border-radius: 0.25em;background-color: #f0f8ff;}#sk-container-id-3 input.sk-toggleable__control:checked~div.sk-toggleable__content {max-height: 200px;max-width: 100%;overflow: auto;}#sk-container-id-3 input.sk-toggleable__control:checked~label.sk-toggleable__label-arrow:before {content: \"▾\";}#sk-container-id-3 div.sk-estimator input.sk-toggleable__control:checked~label.sk-toggleable__label {background-color: #d4ebff;}#sk-container-id-3 div.sk-label input.sk-toggleable__control:checked~label.sk-toggleable__label {background-color: #d4ebff;}#sk-container-id-3 input.sk-hidden--visually {border: 0;clip: rect(1px 1px 1px 1px);clip: rect(1px, 1px, 1px, 1px);height: 1px;margin: -1px;overflow: hidden;padding: 0;position: absolute;width: 1px;}#sk-container-id-3 div.sk-estimator {font-family: monospace;background-color: #f0f8ff;border: 1px dotted black;border-radius: 0.25em;box-sizing: border-box;margin-bottom: 0.5em;}#sk-container-id-3 div.sk-estimator:hover {background-color: #d4ebff;}#sk-container-id-3 div.sk-parallel-item::after {content: \"\";width: 100%;border-bottom: 1px solid gray;flex-grow: 1;}#sk-container-id-3 div.sk-label:hover label.sk-toggleable__label {background-color: #d4ebff;}#sk-container-id-3 div.sk-serial::before {content: \"\";position: absolute;border-left: 1px solid gray;box-sizing: border-box;top: 0;bottom: 0;left: 50%;z-index: 0;}#sk-container-id-3 div.sk-serial {display: flex;flex-direction: column;align-items: center;background-color: white;padding-right: 0.2em;padding-left: 0.2em;position: relative;}#sk-container-id-3 div.sk-item {position: relative;z-index: 1;}#sk-container-id-3 div.sk-parallel {display: flex;align-items: stretch;justify-content: center;background-color: white;position: relative;}#sk-container-id-3 div.sk-item::before, #sk-container-id-3 div.sk-parallel-item::before {content: \"\";position: absolute;border-left: 1px solid gray;box-sizing: border-box;top: 0;bottom: 0;left: 50%;z-index: -1;}#sk-container-id-3 div.sk-parallel-item {display: flex;flex-direction: column;z-index: 1;position: relative;background-color: white;}#sk-container-id-3 div.sk-parallel-item:first-child::after {align-self: flex-end;width: 50%;}#sk-container-id-3 div.sk-parallel-item:last-child::after {align-self: flex-start;width: 50%;}#sk-container-id-3 div.sk-parallel-item:only-child::after {width: 0;}#sk-container-id-3 div.sk-dashed-wrapped {border: 1px dashed gray;margin: 0 0.4em 0.5em 0.4em;box-sizing: border-box;padding-bottom: 0.4em;background-color: white;}#sk-container-id-3 div.sk-label label {font-family: monospace;font-weight: bold;display: inline-block;line-height: 1.2em;}#sk-container-id-3 div.sk-label-container {text-align: center;}#sk-container-id-3 div.sk-container {/* jupyter's `normalize.less` sets `[hidden] { display: none; }` but bootstrap.min.css set `[hidden] { display: none !important; }` so we also need the `!important` here to be able to override the default hidden behavior on the sphinx rendered scikit-learn.org. See: https://github.com/scikit-learn/scikit-learn/issues/21755 */display: inline-block !important;position: relative;}#sk-container-id-3 div.sk-text-repr-fallback {display: none;}</style><div id=\"sk-container-id-3\" class=\"sk-top-container\"><div class=\"sk-text-repr-fallback\"><pre>NearestCentroid()</pre><b>In a Jupyter environment, please rerun this cell to show the HTML representation or trust the notebook. <br />On GitHub, the HTML representation is unable to render, please try loading this page with nbviewer.org.</b></div><div class=\"sk-container\" hidden><div class=\"sk-item\"><div class=\"sk-estimator sk-toggleable\"><input class=\"sk-toggleable__control sk-hidden--visually\" id=\"sk-estimator-id-3\" type=\"checkbox\" checked><label for=\"sk-estimator-id-3\" class=\"sk-toggleable__label sk-toggleable__label-arrow\">NearestCentroid</label><div class=\"sk-toggleable__content\"><pre>NearestCentroid()</pre></div></div></div></div></div>"
      ],
      "text/plain": [
       "NearestCentroid()"
      ]
     },
     "execution_count": 380,
     "metadata": {},
     "output_type": "execute_result"
    }
   ],
   "source": [
    "clf_knn.fit(X_train, y_train)"
   ]
  },
  {
   "cell_type": "code",
   "execution_count": 381,
   "id": "38c5eec3-c16c-4a8e-ab7a-9de0d87364a0",
   "metadata": {},
   "outputs": [],
   "source": [
    "y_res_knn= clf_knn.predict(X_test)"
   ]
  },
  {
   "cell_type": "code",
   "execution_count": 382,
   "id": "29f65bb6-9649-404e-92a2-0073887810d2",
   "metadata": {},
   "outputs": [
    {
     "data": {
      "text/plain": [
       "0.5833333333333334"
      ]
     },
     "execution_count": 382,
     "metadata": {},
     "output_type": "execute_result"
    }
   ],
   "source": [
    "accuracy_score(y_test, y_res_knn)"
   ]
  }
 ],
 "metadata": {
  "kernelspec": {
   "display_name": "Python 3",
   "language": "python",
   "name": "python3"
  },
  "language_info": {
   "codemirror_mode": {
    "name": "ipython",
    "version": 3
   },
   "file_extension": ".py",
   "mimetype": "text/x-python",
   "name": "python",
   "nbconvert_exporter": "python",
   "pygments_lexer": "ipython3",
   "version": "3.9.1"
  },
  "vscode": {
   "interpreter": {
    "hash": "8ad9717877c2b274fd08cce4da42af3269541713ce307f786649534da57947e9"
   }
  }
 },
 "nbformat": 4,
 "nbformat_minor": 5
}
